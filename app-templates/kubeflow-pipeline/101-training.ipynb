{
 "cells": [
  {
   "cell_type": "markdown",
   "metadata": {},
   "source": [
    "# 101 Github Issue Summarization training\n",
    "\n",
    "\n",
    "In this notebook, we will show how to:\n",
    "\n",
    "* Define a seq2seq model\n",
    "* Perform training with [Keras](https://keras.io) and [Tensorflow](https://www.tensorflow.org/api_docs/python/tf)\n",
    "* Serve trained model with [Seldon](https://docs.seldon.io/projects/seldon-core/en/latest/python/api/modules.html)\n",
    "* Deploy a [flask](http://flask.pocoo.org) web application\n",
    "\n",
    "TBD"
   ]
  },
  {
   "cell_type": "code",
   "execution_count": null,
   "metadata": {},
   "outputs": [],
   "source": [
    "import requests, os\n",
    "%load_ext extensions\n",
    "\n",
    "rubbish = 'latest'\n",
    "\n",
    "ARTIFACTS_ROOT = f\"{os.environ['HOME']}/bucket\"\n",
    "DATASET_FILE = f\"{ARTIFACTS_ROOT}/dataset.csv\"\n",
    "MODEL_FILE = f\"{ARTIFACTS_ROOT}/training-{rubbish}/training1.h5\"\n",
    "TITLE_PP_FILE = f\"{ARTIFACTS_ROOT}/training-{rubbish}/title_preprocessor.dpkl\"\n",
    "BODY_PP_FILE = f\"{ARTIFACTS_ROOT}/training-{rubbish}/body_preprocessor.dpkl\"\n",
    "TRAIN_DF_FILE = f\"{ARTIFACTS_ROOT}/training-{rubbish}/traindf.csv\"\n",
    "TEST_DF_FILE =  f\"{ARTIFACTS_ROOT}/training-{rubbish}/testdf.csv\"\n",
    "TRAIN_TITLE_VECS = f\"{ARTIFACTS_ROOT}/training-{rubbish}/train_title_vecs.npy\"\n",
    "TRAIN_BODY_VECS = f\"{ARTIFACTS_ROOT}/training-{rubbish}/train_body_vecs.npy\""
   ]
  },
  {
   "cell_type": "code",
   "execution_count": null,
   "metadata": {},
   "outputs": [],
   "source": [
    "def download_file(url, download_to):\n",
    "    dirname = os.path.dirname('dataset.csv')\n",
    "    if dirname:\n",
    "        os.makedirs(dirname)\n",
    "    # NOTE the stream=True parameter below\n",
    "    with requests.get(url, stream=True) as r:\n",
    "        r.raise_for_status()\n",
    "        with open(download_to, 'wb+') as f:\n",
    "            for chunk in r.iter_content(chunk_size=8192): \n",
    "                if chunk: # filter out keep-alive new chunks\n",
    "                    f.write(chunk)"
   ]
  },
  {
   "cell_type": "code",
   "execution_count": null,
   "metadata": {},
   "outputs": [],
   "source": [
    "# github issues small: 2Mi data set (best for dev/test)\n",
    "SAMPLE_DATASET = 'https://s3.us-east-2.amazonaws.com/asi-kubeflow-models/gh-issues/data-sample.csv'\n",
    "SAMPLE_DATASET_MD5 = '916af946f2fe1d1779b26205d4d8378f'\n",
    "# data set for 3Gi. (best for training)\n",
    "FULL_DATASET = 'https://s3.us-east-2.amazonaws.com/asi-kubeflow-models/gh-issues/data-full.csv'\n",
    "FULL_DATASET_MD5 = '57dc987c04d41a94d0d9daf4d0ebf8ba'\n",
    "\n",
    "download_file(url=SAMPLE_DATASET, download_to=DATASET_FILE)"
   ]
  },
  {
   "cell_type": "code",
   "execution_count": null,
   "metadata": {},
   "outputs": [],
   "source": []
  }
 ],
 "metadata": {
  "kernelspec": {
   "display_name": "Python 3",
   "language": "python",
   "name": "python3"
  },
  "language_info": {
   "codemirror_mode": {
    "name": "ipython",
    "version": 3
   },
   "file_extension": ".py",
   "mimetype": "text/x-python",
   "name": "python",
   "nbconvert_exporter": "python",
   "pygments_lexer": "ipython3",
   "version": "3.6.7"
  }
 },
 "nbformat": 4,
 "nbformat_minor": 2
}
