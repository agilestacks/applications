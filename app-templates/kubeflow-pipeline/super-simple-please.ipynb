{
 "cells": [
  {
   "cell_type": "markdown",
   "metadata": {},
   "source": [
    "# Super simple Kubeflow Pipelines\n",
    "\n",
    "Here we will schedule a one pipeline that will download artifacts from minio buckets"
   ]
  },
  {
   "cell_type": "markdown",
   "metadata": {},
   "source": [
    "## Environment setup"
   ]
  },
  {
   "cell_type": "code",
   "execution_count": 3,
   "metadata": {},
   "outputs": [
    {
     "name": "stdout",
     "output_type": "stream",
     "text": [
      "Loading extensions from ~/dev/applications/app-templates/kubeflow-pipeline/extensions is deprecated. We recommend managing extensions like any other Python packages, in site-packages.\n"
     ]
    }
   ],
   "source": [
    "%load_ext extensions\n",
    "\n",
    "from ipython_secrets import *\n",
    "from os import environ\n",
    "\n",
    "# our minio credentials\n",
    "S3_ENDPOINT = environ['S3_ENDPOINT']\n",
    "S3_ACCESS_KEY = get_secret('S3_ACCESS_KEY')\n",
    "S3_SECRET_KEY = get_secret('S3_SECRET_KEY')\n",
    "S3_BUCKET = 'default'\n",
    "\n",
    "IMAGE = 'harbor.svc.cluster3.antoncloud1.dev.superhub.io/library/hello'\n",
    "REGISTRY_SECRET = 'harbor'\n",
    "\n",
    "EXPERIMENT_NAME = 'Super-Simple'"
   ]
  },
  {
   "cell_type": "markdown",
   "metadata": {},
   "source": [
    "## Generate Docker and Kubernetes configs\n",
    "\n",
    "Below we generate a dockerfile that will be used to put some `minio` awarness:\n",
    "- `Dockerfile` - a docker container that will be built and pushed into private docker egistry\n",
    "- `Kaniko` - deploument job to carry on our container build"
   ]
  },
  {
   "cell_type": "code",
   "execution_count": 4,
   "metadata": {},
   "outputs": [
    {
     "data": {
      "text/html": [
       "<a href='Dockerfile' target='_blank'>Dockerfile</a><br>"
      ],
      "text/plain": [
       "/Users/akranga/dev/applications/app-templates/kubeflow-pipeline/Dockerfile"
      ]
     },
     "metadata": {},
     "output_type": "display_data"
    }
   ],
   "source": [
    "%%template Dockerfile\n",
    "FROM gcr.io/ml-pipeline/ml-pipeline-dataflow-tfdv:85c6413a2e13da4b8f198aeac1abc2f3a74fe789\n",
    "RUN echo {{IMAGE}}"
   ]
  },
  {
   "cell_type": "code",
   "execution_count": 5,
   "metadata": {},
   "outputs": [
    {
     "data": {
      "text/html": [
       "<a href='kaniko.yaml' target='_blank'>kaniko.yaml</a><br>"
      ],
      "text/plain": [
       "/Users/akranga/dev/applications/app-templates/kubeflow-pipeline/kaniko.yaml"
      ]
     },
     "metadata": {},
     "output_type": "display_data"
    }
   ],
   "source": [
    "%templatefile extensions/templates/kaniko.yaml -o kaniko.yaml"
   ]
  },
  {
   "cell_type": "markdown",
   "metadata": {},
   "source": [
    "### Upload to bucket\n",
    "Generated files must be uploaded to object storage bucket (i.e s3, minio). Docker build process (Kaniko) will have to access to s3 bucket"
   ]
  },
  {
   "cell_type": "code",
   "execution_count": 10,
   "metadata": {},
   "outputs": [],
   "source": [
    "import boto3\n",
    "\n",
    "s3_client = boto3.client('s3',\n",
    "    region_name = 'us-east-1',\n",
    "    endpoint_url = S3_ENDPOINT,\n",
    "    aws_access_key_id = S3_ACCESS_KEY,\n",
    "    aws_secret_access_key = S3_SECRET_KEY)\n",
    "\n",
    "s3_client.upload_file('Dockerfile' , S3_BUCKET, 'Dockerfile')"
   ]
  },
  {
   "cell_type": "markdown",
   "metadata": {},
   "source": [
    "## Create an expereiment\n",
    "We must create a new experiment if does not exist"
   ]
  },
  {
   "cell_type": "markdown",
   "metadata": {},
   "source": [
    "## Define a Pipeline"
   ]
  },
  {
   "cell_type": "code",
   "execution_count": 22,
   "metadata": {},
   "outputs": [],
   "source": [
    "import kfp.dsl as dsl\n",
    "from kubernetes import client as k8sc\n",
    "\n",
    "@dsl.pipeline(\n",
    "  name='Super simple minio integration',\n",
    "  description='I as a pipeline want to read a file from minio bucket'\n",
    ")\n",
    "def hello_minio_pipeline(filename: dsl.PipelineParam):\n",
    "    op1 = dsl.ContainerOp(\n",
    "        name='download',\n",
    "        image='minio/mc',\n",
    "        command=['mc', '--no-color'],\n",
    "        arguments=['cp', 'minio/%s' % filename, '/tmp/results.txt'],\n",
    "        file_outputs={'downloaded': '/tmp/results.txt'}\n",
    "    ).add_env_variable(\n",
    "        k8sc.V1EnvVar(\n",
    "            name='MC_HOSTS_minio', \n",
    "            value='https://%s:%s@%s' % (S3_ACCESS_KEY, S3_SECRET_KEY, S3_ENDPOINT), \n",
    "        ))\n",
    "    op2 = dsl.ContainerOp(\n",
    "        name='echo',\n",
    "        image='library/bash:4.4.23',\n",
    "        command=['sh', '-c'],\n",
    "        arguments=['echo %s' % op1.output])"
   ]
  },
  {
   "cell_type": "markdown",
   "metadata": {},
   "source": [
    "### Execute the pipeline\n",
    "\n",
    "Code below will create a new experiement **Hello Minio** and run it"
   ]
  },
  {
   "cell_type": "code",
   "execution_count": 26,
   "metadata": {},
   "outputs": [
    {
     "data": {
      "text/html": [
       "Run link <a href=\"/pipeline/#/runs/details/20f762ad-1125-11e9-84b8-0251892cc566\" target=\"_blank\" >here</a>"
      ],
      "text/plain": [
       "<IPython.core.display.HTML object>"
      ]
     },
     "metadata": {},
     "output_type": "display_data"
    }
   ],
   "source": [
    "import kfp\n",
    "import kfp.compiler as compiler\n",
    "\n",
    "client = kfp.Client()\n",
    "\n",
    "try:\n",
    "    exp = client.get_experiment(experiment_name=EXPERIMENT_NAME)\n",
    "except ValueError:\n",
    "    exp = client.create_experiment(EXPERIMENT_NAME)\n",
    "\n",
    "compiler.Compiler().compile(hello_minio_pipeline, 'pipeline.tar.gz')\n",
    "\n",
    "run = client.run_pipeline(exp.id, \n",
    "                          'pipeline 1', \n",
    "                          'pipeline.tar.gz',\n",
    "                          params={'filename': 'default/hello.txt'})\n",
    "\n",
    "\n",
    "%%deploy_webhook 'pipeline.tar.gz' 'http://xyz'"
   ]
  },
  {
   "cell_type": "code",
   "execution_count": null,
   "metadata": {},
   "outputs": [],
   "source": []
  }
 ],
 "metadata": {
  "kernelspec": {
   "display_name": "Python 3",
   "language": "python",
   "name": "python3"
  },
  "language_info": {
   "codemirror_mode": {
    "name": "ipython",
    "version": 3
   },
   "file_extension": ".py",
   "mimetype": "text/x-python",
   "name": "python",
   "nbconvert_exporter": "python",
   "pygments_lexer": "ipython3",
   "version": "3.7.1"
  }
 },
 "nbformat": 4,
 "nbformat_minor": 2
}
