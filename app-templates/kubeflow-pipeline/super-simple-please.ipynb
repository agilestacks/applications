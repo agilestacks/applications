{
 "cells": [
  {
   "cell_type": "markdown",
   "metadata": {},
   "source": [
    "# Super simple Kubeflow Pipelines\n",
    "\n",
    "Here we will schedule a one pipeline that will download artifacts from minio buckets"
   ]
  },
  {
   "cell_type": "code",
   "execution_count": null,
   "metadata": {
    "ExecuteTime": {
     "end_time": "2019-01-25T11:58:58.400456Z",
     "start_time": "2019-01-25T11:58:54.447907Z"
    },
    "scrolled": false
   },
   "outputs": [],
   "source": [
    "!pip3 install --upgrade './extensions' > /dev/null\n",
    "!pip3 install --upgrade 'https://storage.googleapis.com/ml-pipeline/release/0.1.8/kfp.tar.gz' > /dev/null\n",
    "\n",
    "# jupyter notebook extensions\n",
    "%load_ext extensions\n",
    "\n",
    "# imports goes here\n",
    "from kubernetes import client as kube_client\n",
    "from ipython_secrets import get_secret\n",
    "from os import environ\n",
    "import kfp\n",
    "import kfp.compiler as compiler\n",
    "import boto3\n",
    "import tarfile\n",
    "import kfp.dsl as dsl"
   ]
  },
  {
   "cell_type": "markdown",
   "metadata": {},
   "source": [
    "\n",
    "## Environment setup"
   ]
  },
  {
   "cell_type": "code",
   "execution_count": null,
   "metadata": {
    "ExecuteTime": {
     "end_time": "2019-01-25T11:59:03.623170Z",
     "start_time": "2019-01-25T11:59:03.503075Z"
    }
   },
   "outputs": [],
   "source": [
    "EXPERIMENT_NAME = 'Das-Experiment-1'\n",
    "\n",
    "AWS_DEFAULT_REGION = environ.get('AWS_DEFAULT_REGION', 'us-east-1')\n",
    "AWS_S3_BUCKET = environ.get('AWS_S3_BUCKET') or get_secret('AWS_S3_BUCKET')\n",
    "AWS_S3_ENDPOINT = environ.get('AWS_S3_ENDPOINT', 's3.amazonaws.com')\n",
    "AWS_ACCESS_KEY_ID = get_secret('AWS_ACCESS_KEY_ID') \n",
    "AWS_SECRET_ACCESS_KEY = get_secret('AWS_SECRET_ACCESS_KEY')\n",
    "AWS_SECRET_NAME = environ.get('AWS_SECRET_NAME') or get_secret('AWS_SECRET_NAME')\n",
    "\n",
    "TAG = 'latest'\n",
    "DOCKER_REGISTRY = environ.get('DOCKER_REGISTRY') or get_secret('DOCKER_REGISTRY')\n",
    "DOCKER_REGISTRY_SECRET = get_secret('DOCKER_REGISTRY_SECRET')\n",
    "DOCKER_IMAGE = f'{DOCKER_REGISTRY}/library/kubectl:{TAG}'"
   ]
  },
  {
   "cell_type": "markdown",
   "metadata": {},
   "source": [
    "Create API clients for pipelines and object storage"
   ]
  },
  {
   "cell_type": "code",
   "execution_count": null,
   "metadata": {
    "ExecuteTime": {
     "end_time": "2019-01-25T11:59:07.000537Z",
     "start_time": "2019-01-25T11:59:06.814788Z"
    }
   },
   "outputs": [],
   "source": [
    "s3_client = boto3.client('s3',\n",
    "    region_name = AWS_DEFAULT_REGION,\n",
    "    aws_access_key_id = AWS_ACCESS_KEY_ID,\n",
    "    aws_secret_access_key = AWS_SECRET_ACCESS_KEY)\n",
    "\n",
    "client = kfp.Client()"
   ]
  },
  {
   "cell_type": "markdown",
   "metadata": {},
   "source": [
    "*Create experiment*: we retrieve an experiment by name or otherwise will create new"
   ]
  },
  {
   "cell_type": "code",
   "execution_count": null,
   "metadata": {},
   "outputs": [],
   "source": [
    "try:\n",
    "    experiment = client.get_experiment(experiment_name=EXPERIMENT_NAME)\n",
    "except:\n",
    "    experiment = client.create_experiment(EXPERIMENT_NAME)"
   ]
  },
  {
   "cell_type": "markdown",
   "metadata": {},
   "source": [
    "# Build an experiment related docker image\n",
    "\n",
    "Below we generate a dockerfile that will be used to put some `minio` awarness:\n",
    "- `Dockerfile` - a docker container that will be built and pushed into private docker egistry\n",
    "- `Kaniko` - deploument job to carry on our container build"
   ]
  },
  {
   "cell_type": "code",
   "execution_count": null,
   "metadata": {},
   "outputs": [],
   "source": [
    "%%template Dockerfile\n",
    "FROM gcr.io/google-samples/ml-pipeline-t2ttrain:latest\n",
    "RUN echo \"{{DOCKER_IMAGE}}\""
   ]
  },
  {
   "cell_type": "code",
   "execution_count": null,
   "metadata": {},
   "outputs": [],
   "source": [
    "%templatefile extensions/templates/kaniko-workflow.yaml -o kaniko.yaml -v"
   ]
  },
  {
   "cell_type": "markdown",
   "metadata": {},
   "source": [
    "Generated files must be uploaded to object storage bucket (i.e s3, minio). Docker build process (Kaniko) will have to access to s3 bucket"
   ]
  },
  {
   "cell_type": "code",
   "execution_count": null,
   "metadata": {},
   "outputs": [],
   "source": [
    "with tarfile.open('dockerbuild.tar.gz', 'w:gz') as tar:\n",
    "    tar.add('Dockerfile', arcname='Dockerfile')\n",
    "    tar.add('kaniko.yaml', arcname='pipeline.yaml')\n",
    "\n",
    "s3_client.upload_file('dockerbuild.tar.gz' , AWS_S3_BUCKET, f'{EXPERIMENT_NAME}/dockerbuild.tar.gz')\n",
    "\n",
    "r = client.run_pipeline(experiment.id, \n",
    "                        f'build {DOCKER_IMAGE}', \n",
    "                        'dockerbuild.tar.gz', \n",
    "                        params={'image': DOCKER_IMAGE})"
   ]
  },
  {
   "cell_type": "code",
   "execution_count": null,
   "metadata": {},
   "outputs": [],
   "source": [
    "client.wait_for_run_completion(r.id, timeout=180).run.status"
   ]
  },
  {
   "cell_type": "markdown",
   "metadata": {},
   "source": [
    "# Define an Experiment Pipeline"
   ]
  },
  {
   "cell_type": "code",
   "execution_count": null,
   "metadata": {},
   "outputs": [],
   "source": [
    "@dsl.pipeline(\n",
    "  name='Super simple minio integration',\n",
    "  description='I as a pipeline want to read a file from minio bucket'\n",
    ")\n",
    "def hello_minio_pipeline(filename: dsl.PipelineParam):\n",
    "    op1 = dsl.ContainerOp(\n",
    "        name='download',\n",
    "        image='minio/mc',\n",
    "        command=['mc', '--no-color'],\n",
    "        arguments=['cp', f'minio/{filename}', '/tmp/results.txt'],\n",
    "        file_outputs={'downloaded': '/tmp/results.txt'}\n",
    "    ).add_env_variable(\n",
    "        k8sc.V1EnvVar(\n",
    "            name='MC_HOSTS_minio', \n",
    "            value=f'https://{S3_ACCESS_KEY}:{S3_SECRET_KEY}@{S3_ENDPOINT}' \n",
    "        ))\n",
    "    op2 = dsl.ContainerOp(\n",
    "        name='echo',\n",
    "        image='library/bash:4.4.23',\n",
    "        command=['sh', '-c'],\n",
    "        arguments=[f'echo {op1.output}'])"
   ]
  },
  {
   "cell_type": "markdown",
   "metadata": {},
   "source": [
    "### Execute the pipeline\n",
    "\n",
    "Code below will create a new experiement **Hello Minio** and run it"
   ]
  },
  {
   "cell_type": "code",
   "execution_count": null,
   "metadata": {},
   "outputs": [],
   "source": [
    "compiler.Compiler().compile(hello_minio_pipeline, 'pipeline.tar.gz')\n",
    "run = client.run_pipeline(exp.id, \n",
    "                          'pipeline 1', \n",
    "                          'pipeline.tar.gz',\n",
    "                          params={'filename': 'default/hello.txt'})\n"
   ]
  },
  {
   "cell_type": "code",
   "execution_count": null,
   "metadata": {},
   "outputs": [],
   "source": []
  }
 ],
 "metadata": {
  "kernelspec": {
   "display_name": "Python 3",
   "language": "python",
   "name": "python3"
  },
  "language_info": {
   "codemirror_mode": {
    "name": "ipython",
    "version": 3
   },
   "file_extension": ".py",
   "mimetype": "text/x-python",
   "name": "python",
   "nbconvert_exporter": "python",
   "pygments_lexer": "ipython3",
   "version": "3.6.4"
  },
  "toc": {
   "base_numbering": 1,
   "nav_menu": {},
   "number_sections": true,
   "sideBar": true,
   "skip_h1_title": false,
   "title_cell": "Table of Contents",
   "title_sidebar": "Contents",
   "toc_cell": false,
   "toc_position": {},
   "toc_section_display": true,
   "toc_window_display": false
  }
 },
 "nbformat": 4,
 "nbformat_minor": 2
}
