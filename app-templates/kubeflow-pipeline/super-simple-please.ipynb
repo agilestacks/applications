{
 "cells": [
  {
   "cell_type": "markdown",
   "metadata": {},
   "source": [
    "# Super simple Kubeflow Pipelines\n",
    "\n",
    "Here we will schedule a one pipeline that will download artifacts from minio buckets"
   ]
  },
  {
   "cell_type": "code",
   "execution_count": 1,
   "metadata": {},
   "outputs": [
    {
     "name": "stdout",
     "output_type": "stream",
     "text": [
      "Loading extensions from ~/dev/applications/app-templates/kubeflow-pipeline/extensions is deprecated. We recommend managing extensions like any other Python packages, in site-packages.\n"
     ]
    }
   ],
   "source": [
    "%load_ext extensions"
   ]
  },
  {
   "cell_type": "markdown",
   "metadata": {},
   "source": [
    "## Environment setup"
   ]
  },
  {
   "cell_type": "code",
   "execution_count": 3,
   "metadata": {},
   "outputs": [],
   "source": [
    "from ipython_secrets import *\n",
    "from os import environ\n",
    "import boto3\n",
    "\n",
    "# our minio credentials\n",
    "S3_ENDPOINT = environ['S3_ENDPOINT']\n",
    "S3_ACCESS_KEY = get_secret('S3_ACCESS_KEY')\n",
    "S3_SECRET_KEY = get_secret('S3_SECRET_KEY')\n",
    "S3_BUCKET = 'default'\n",
    "\n",
    "IMAGE = 'harbor.svc.cluster3.antoncloud1.dev.superhub.io/library/hello'\n",
    "REGISTRY_SECRET = 'harbor'\n",
    "\n",
    "EXPERIMENT_NAME = 'Super-Simple'"
   ]
  },
  {
   "cell_type": "markdown",
   "metadata": {},
   "source": [
    "## Generate Docker and Kubernetes configs\n",
    "\n",
    "Below we generate a dockerfile that will be used to put some `minio` awarness:\n",
    "- `Dockerfile` - a docker container that will be built and pushed into private docker egistry\n",
    "- `Kaniko` - deploument job to carry on our container build"
   ]
  },
  {
   "cell_type": "code",
   "execution_count": 4,
   "metadata": {},
   "outputs": [
    {
     "data": {
      "text/plain": [
       "{'__name__': '__main__',\n",
       " '__doc__': 'Automatically created module for IPython interactive environment',\n",
       " '__package__': None,\n",
       " '__loader__': None,\n",
       " '__spec__': None,\n",
       " '__builtin__': <module 'builtins' (built-in)>,\n",
       " '__builtins__': <module 'builtins' (built-in)>,\n",
       " '_ih': ['',\n",
       "  \"get_ipython().run_line_magic('load_ext', 'extensions')\",\n",
       "  \"get_ipython().run_cell_magic('template', 'Dockerfile', 'FROM gcr.io/ml-pipeline/ml-pipeline-dataflow-tfdv:85c6413a2e13da4b8f198aeac1abc2f3a74fe789\\\\nRUN echo {{IMAGE}}\\\\n')\",\n",
       "  \"from ipython_secrets import *\\nfrom os import environ\\nimport boto3\\n\\n# our minio credentials\\nS3_ENDPOINT = environ['S3_ENDPOINT']\\nS3_ACCESS_KEY = get_secret('S3_ACCESS_KEY')\\nS3_SECRET_KEY = get_secret('S3_SECRET_KEY')\\nS3_BUCKET = 'default'\\n\\nIMAGE = 'harbor.svc.cluster3.antoncloud1.dev.superhub.io/library/hello'\\nREGISTRY_SECRET = 'harbor'\\n\\nEXPERIMENT_NAME = 'Super-Simple'\",\n",
       "  \"get_ipython().run_cell_magic('template', 'Dockerfile', 'FROM gcr.io/ml-pipeline/ml-pipeline-dataflow-tfdv:85c6413a2e13da4b8f198aeac1abc2f3a74fe789\\\\nRUN echo {{IMAGE}}\\\\n')\"],\n",
       " '_oh': {2: {...}},\n",
       " '_dh': ['/Users/akranga/dev/applications/app-templates/kubeflow-pipeline'],\n",
       " 'In': ['',\n",
       "  \"get_ipython().run_line_magic('load_ext', 'extensions')\",\n",
       "  \"get_ipython().run_cell_magic('template', 'Dockerfile', 'FROM gcr.io/ml-pipeline/ml-pipeline-dataflow-tfdv:85c6413a2e13da4b8f198aeac1abc2f3a74fe789\\\\nRUN echo {{IMAGE}}\\\\n')\",\n",
       "  \"from ipython_secrets import *\\nfrom os import environ\\nimport boto3\\n\\n# our minio credentials\\nS3_ENDPOINT = environ['S3_ENDPOINT']\\nS3_ACCESS_KEY = get_secret('S3_ACCESS_KEY')\\nS3_SECRET_KEY = get_secret('S3_SECRET_KEY')\\nS3_BUCKET = 'default'\\n\\nIMAGE = 'harbor.svc.cluster3.antoncloud1.dev.superhub.io/library/hello'\\nREGISTRY_SECRET = 'harbor'\\n\\nEXPERIMENT_NAME = 'Super-Simple'\",\n",
       "  \"get_ipython().run_cell_magic('template', 'Dockerfile', 'FROM gcr.io/ml-pipeline/ml-pipeline-dataflow-tfdv:85c6413a2e13da4b8f198aeac1abc2f3a74fe789\\\\nRUN echo {{IMAGE}}\\\\n')\"],\n",
       " 'Out': {2: {...}},\n",
       " 'get_ipython': <bound method InteractiveShell.get_ipython of <ipykernel.zmqshell.ZMQInteractiveShell object at 0x1028539e8>>,\n",
       " 'exit': <IPython.core.autocall.ZMQExitAutocall at 0x1028c2ac8>,\n",
       " 'quit': <IPython.core.autocall.ZMQExitAutocall at 0x1028c2ac8>,\n",
       " '_': {...},\n",
       " '__': '',\n",
       " '___': '',\n",
       " 'environ': environ{'TERM_SESSION_ID': 'w0t1p0:6BB4CA95-C9F3-4A2F-A6C7-37A04B5BF1CB',\n",
       "         'SSH_AUTH_SOCK': '/private/tmp/com.apple.launchd.pjaRMKIyeC/Listeners',\n",
       "         'Apple_PubSub_Socket_Render': '/private/tmp/com.apple.launchd.NDMCf3mu2F/Render',\n",
       "         'COLORFGBG': '7;0',\n",
       "         'ITERM_PROFILE': 'Default',\n",
       "         'XPC_FLAGS': '0x0',\n",
       "         'PWD': '/Users/akranga/dev/applications/app-templates/kubeflow-pipeline',\n",
       "         'SHELL': '/bin/zsh',\n",
       "         'SECURITYSESSIONID': '186a8',\n",
       "         'TERM_PROGRAM_VERSION': '3.2.6',\n",
       "         'TERM_PROGRAM': 'iTerm.app',\n",
       "         'PATH': '/Users/akranga/dev/applications/app-templates/kubeflow-pipeline/.virtualenv/bin:/Users/akranga/dev/applications/app-templates/kubeflow-pipeline/.virtualenv/bin:/Users/akranga/dev/applications/app-templates/kubeflow-pipeline/.virtualenv/bin:/Users/akranga/.local/bin:/Users/akranga/google-cloud-sdk/bin:/Users/akranga/.nvm/versions/node/v10.13.0/bin:/usr/local/bin:/usr/bin:/bin:/usr/sbin:/sbin:/Users/akranga/Library/Python/3.6/bin:/Users/akranga/.antigen/bundles/robbyrussell/oh-my-zsh/lib:/Users/akranga/.antigen/bundles/robbyrussell/oh-my-zsh/plugins/brew:/Users/akranga/.antigen/bundles/robbyrussell/oh-my-zsh/plugins/common-aliases:/Users/akranga/.antigen/bundles/robbyrussell/oh-my-zsh/plugins/git:/Users/akranga/.antigen/bundles/zsh-users/zsh-syntax-highlighting:/Users/akranga/.antigen/bundles/zsh-users/zsh-completions:/Users/akranga/.antigen/bundles/zsh-users/zsh-autosuggestions:/Users/akranga/.antigen/bundles/mafredri/zsh-async:/Users/akranga/.antigen/bundles/robbyrussell/oh-my-zsh/plugins/pip:/Users/akranga/.antigen/bundles/robbyrussell/oh-my-zsh/plugins/command-not-found:/Users/akranga/.antigen/bundles/eventi/noreallyjustfuckingstopalready:/Users/akranga/.antigen/bundles/eventi/noreallyjustfuckingstopalready:/Users/akranga/Library/Python/2.7/bin:/bin:/bin:/Users/akranga/bin:/Users/akranga/dev/scripts:/Users/akranga/dev/automation-hub-cli/bin/darwin',\n",
       "         'COLORTERM': 'truecolor',\n",
       "         'COMMAND_MODE': 'unix2003',\n",
       "         'TERM': 'xterm-color',\n",
       "         'HOME': '/Users/akranga',\n",
       "         'TMPDIR': '/var/folders/bh/6983t9rs0r76ftsb83w6f_0m0000gn/T/',\n",
       "         'USER': 'akranga',\n",
       "         'XPC_SERVICE_NAME': '0',\n",
       "         'LOGNAME': 'akranga',\n",
       "         '__CF_USER_TEXT_ENCODING': '0x1F5:0x0:0x0',\n",
       "         'ITERM_SESSION_ID': 'w0t1p0:6BB4CA95-C9F3-4A2F-A6C7-37A04B5BF1CB',\n",
       "         'SHLVL': '1',\n",
       "         'OLDPWD': '/Users/akranga/dev/applications/app-templates/kubeflow-pipeline/extensions',\n",
       "         'ZSH': '/Users/akranga/.oh-my-zsh',\n",
       "         'PAGER': 'cat',\n",
       "         'LESS': '-R',\n",
       "         'LSCOLORS': 'Gxfxcxdxbxegedabagacad',\n",
       "         'NVM_DIR': '/Users/akranga/.nvm',\n",
       "         'NVM_CD_FLAGS': '-q',\n",
       "         'NVM_BIN': '/Users/akranga/.nvm/versions/node/v10.13.0/bin',\n",
       "         'DIRENV_DIFF': 'eJzslVtzsjoXx79LrkU8UdCZ5wKPVRGs4qHvDRMgQjQkmASEPtPv_g52ZveZ7na6u-vNnumViVnrFyZrrf__N0hB7zdYmu496AF1IxAXKjxxSCOoRoxFBCkBYVmoiPCk-pj23sTUaZ6oOeICMypUykKk5s1GvdmuN17CM8FVwgJIXrfXxV87cV2Jd9gW9jnkpbosZcyo2q7fvfsFkEocIar6GQ0JEipnvl_yTAhEiMpiJSmVJxGrBPv_NjUlWYSpUH2OLt9lBCxJGFUgwVAg8V1ahOWniCcRK9k1pFqJkkpYKDGOYoKjWGIafZEQsCQlSFYF_2ImzCQTWRQh8c-yE3jgKOT4JVmUNPjue6U4vUUBIQ0VyqRyYBkNPwWiHFGJVco4goSUx0zIQxacMI2EZCkkHMGwvA0FPNcArSba3K295coZT60R6AEYYYKEhMFJgBoYTlcje-sNpyvQA8qbe0OUqzBNCQ7gtUjVRpEoSQmUSKinzEcHwi5KilNEMEWvvJ3pDu5Ha9ADaFYuTsNxfinNh1VuWEFhmdqx39GbOF3fofNFO-lpGY12jUGwJnsPaZsmPK8XUi903cs7o533mIsHpt3nZIN3aJA9HtfZzO7wczKxhuNZePDFrmvs40WL57NGso-dsr3zinTrPg0uS2oF62J0Z1jSxUmwY5eHMqJOW7q8MIru-TwZZ5rheFkjtIe75TQ4ajPc8YuZO0m08mhqzaDVvWubyUau7OXefhjned9dPGrTzGjO561VPvej4U7mQ0j786HZmejxfhHZrG8Y5_b-fx1iwqG9UagXoEtnMeA60wtlFZjm0vOcsTLgl1-_QA1Mpu79pu-5znxkgx5oa52OHja6qAkbRgjbCHVaxqHbQKEeQiNsh4cG0rst9JJpma-Z4_N6OylYmGtb6vafyta6eayinI90_Xq4chy3OnxVaJZKNWKVUqICBaAGpstH996xXzrl-40y2ywf3dHKGzj2eDrxboWdb_qjF-T3cWq9-itg9IAjUAPWcGyZk6qnFevNQxHsHw64-gG1Dwz065fnmMsMEkTz96zu1rz6H8b8Y_0_1v9j_f9h6_9khFp1_Y_pe2eYPtAbEXCcyr8V7CpFmWTJVYmUOPOVgOAKooaQXzAFNbCdrtyNaXkje3tbbQTPz_8PAAD__4MBoUo=',\n",
       "         'DIRENV_DIR': '-/Users/akranga/dev/applications/app-templates/kubeflow-pipeline',\n",
       "         'AWS_PROFILE': 'agilestacks',\n",
       "         'LDFLAGS': '-L/usr/local/opt/libffi/lib',\n",
       "         'DIRENV_WATCHES': 'eJyMkDFvwyAQRv8LcxLA5jB471ipS6eqw5k7pygEW0CcSlX_e5U1aqSMt7x77_v4EW_YvsQo5HvlUiWeCuYjSuJN4rqmGLDFJdfbsW98XhM2rvJ0mXhOy3W_xpVTzCwPnLcSxE68LtTimcWowQygnO3tTrx8x9qqGFu58O_u0dNDWPIcj5Ji4bxJTGm5yjA51c2963AmUtRNPXNQFvvBTMY5Iu81KK2RvKbgDWtvDanBKDA4G7hXMgNoB88q3XZ4lAaDNU-n_cew4MCr7o7x-RcAAP__OF-Crw==',\n",
       "         'GITLAB_TOKEN': 'FqSVGxodv5VnTBzy2S1j',\n",
       "         'JUPYTER_CONFIG_DIR': '/Users/akranga/dev/applications/app-templates/kubeflow-pipeline',\n",
       "         'GOPATH': '/Users/akranga/go',\n",
       "         'GOROOT': '/usr/local/opt/go/libexec',\n",
       "         'KUBECONFIG': '/Users/akranga/dev/applications/app-templates/kubeflow-pipeline/.kubeconfig',\n",
       "         'GITHUB_TOKEN': '35447d09e1a08da3ee428f90ed7da8d3df0e792e',\n",
       "         'IPYTHONDIR': '/Users/akranga/dev/applications/app-templates/kubeflow-pipeline',\n",
       "         'VIRTUAL_ENV': '/Users/akranga/dev/applications/app-templates/kubeflow-pipeline/.virtualenv',\n",
       "         'LC_CTYPE': 'UTF-8',\n",
       "         '_': '/Users/akranga/dev/applications/app-templates/kubeflow-pipeline/.virtualenv/bin/jupyter',\n",
       "         'JPY_PARENT_PID': '36802',\n",
       "         'CLICOLOR': '1',\n",
       "         'GIT_PAGER': 'cat',\n",
       "         'MPLBACKEND': 'module://ipykernel.pylab.backend_inline',\n",
       "         'S3_ENDPOINT': 'https://ai-minio.app.cluster3.antoncloud1.dev.superhub.io',\n",
       "         'S3_BUCKET': 'default',\n",
       "         'DOCKER_REGISTRY': 'harbor.svc.cluster3.antoncloud1.dev.superhub.io'},\n",
       " 'boto3': <module 'boto3' from '/Users/akranga/dev/applications/app-templates/kubeflow-pipeline/.virtualenv/lib/python3.7/site-packages/boto3/__init__.py'>,\n",
       " 'get_secret': <function ipython_secrets.get_secret(servicename, *, username=None, default=<object object at 0x10272f440>, force_prompt=False, prompt=None)>,\n",
       " 'set_secret': <function ipython_secrets.set_secret(servicename, password, *, username=None)>,\n",
       " 'delete_secret': <function ipython_secrets.delete_secret(servicename, username=None)>,\n",
       " '_i': \"from ipython_secrets import *\\nfrom os import environ\\nimport boto3\\n\\n# our minio credentials\\nS3_ENDPOINT = environ['S3_ENDPOINT']\\nS3_ACCESS_KEY = get_secret('S3_ACCESS_KEY')\\nS3_SECRET_KEY = get_secret('S3_SECRET_KEY')\\nS3_BUCKET = 'default'\\n\\nIMAGE = 'harbor.svc.cluster3.antoncloud1.dev.superhub.io/library/hello'\\nREGISTRY_SECRET = 'harbor'\\n\\nEXPERIMENT_NAME = 'Super-Simple'\",\n",
       " '_ii': '%%template Dockerfile\\nFROM gcr.io/ml-pipeline/ml-pipeline-dataflow-tfdv:85c6413a2e13da4b8f198aeac1abc2f3a74fe789\\nRUN echo {{IMAGE}}',\n",
       " '_iii': '%load_ext extensions',\n",
       " '_i1': '%load_ext extensions',\n",
       " '_i2': '%%template Dockerfile\\nFROM gcr.io/ml-pipeline/ml-pipeline-dataflow-tfdv:85c6413a2e13da4b8f198aeac1abc2f3a74fe789\\nRUN echo {{IMAGE}}',\n",
       " '_2': {...},\n",
       " '_i3': \"from ipython_secrets import *\\nfrom os import environ\\nimport boto3\\n\\n# our minio credentials\\nS3_ENDPOINT = environ['S3_ENDPOINT']\\nS3_ACCESS_KEY = get_secret('S3_ACCESS_KEY')\\nS3_SECRET_KEY = get_secret('S3_SECRET_KEY')\\nS3_BUCKET = 'default'\\n\\nIMAGE = 'harbor.svc.cluster3.antoncloud1.dev.superhub.io/library/hello'\\nREGISTRY_SECRET = 'harbor'\\n\\nEXPERIMENT_NAME = 'Super-Simple'\",\n",
       " 'S3_ENDPOINT': 'https://ai-minio.app.cluster3.antoncloud1.dev.superhub.io',\n",
       " 'S3_ACCESS_KEY': 'minio',\n",
       " 'S3_SECRET_KEY': 'minio1234',\n",
       " 'S3_BUCKET': 'default',\n",
       " 'IMAGE': 'harbor.svc.cluster3.antoncloud1.dev.superhub.io/library/hello',\n",
       " 'REGISTRY_SECRET': 'harbor',\n",
       " 'EXPERIMENT_NAME': 'Super-Simple',\n",
       " '_i4': '%%template Dockerfile\\nFROM gcr.io/ml-pipeline/ml-pipeline-dataflow-tfdv:85c6413a2e13da4b8f198aeac1abc2f3a74fe789\\nRUN echo {{IMAGE}}'}"
      ]
     },
     "execution_count": 4,
     "metadata": {},
     "output_type": "execute_result"
    }
   ],
   "source": [
    "%%template Dockerfile\n",
    "FROM gcr.io/ml-pipeline/ml-pipeline-dataflow-tfdv:85c6413a2e13da4b8f198aeac1abc2f3a74fe789\n",
    "RUN echo {{IMAGE}}"
   ]
  },
  {
   "cell_type": "code",
   "execution_count": 3,
   "metadata": {},
   "outputs": [
    {
     "data": {
      "text/plain": [
       "'extensions/templates/kaniko.yaml > kaniko.yaml'"
      ]
     },
     "execution_count": 3,
     "metadata": {},
     "output_type": "execute_result"
    }
   ],
   "source": [
    "%templatefile extensions/templates/kaniko.yaml > kaniko.yaml"
   ]
  },
  {
   "cell_type": "markdown",
   "metadata": {},
   "source": [
    "### Upload to bucket\n",
    "Generated files must be uploaded to object storage bucket (i.e s3, minio). Docker build process (Kaniko) will have to access to s3 bucket"
   ]
  },
  {
   "cell_type": "code",
   "execution_count": 11,
   "metadata": {},
   "outputs": [
    {
     "ename": "FileNotFoundError",
     "evalue": "[Errno 2] No such file or directory: 'Dockerfile'",
     "output_type": "error",
     "traceback": [
      "\u001b[0;31m---------------------------------------------------------------------------\u001b[0m",
      "\u001b[0;31mFileNotFoundError\u001b[0m                         Traceback (most recent call last)",
      "\u001b[0;32m<ipython-input-11-4ca25f91df6f>\u001b[0m in \u001b[0;36m<module>\u001b[0;34m\u001b[0m\n\u001b[1;32m      6\u001b[0m \u001b[0;34m\u001b[0m\u001b[0m\n\u001b[1;32m      7\u001b[0m \u001b[0;32mfor\u001b[0m \u001b[0mf\u001b[0m \u001b[0;32min\u001b[0m \u001b[0;34m[\u001b[0m\u001b[0;34m'Dockerfile'\u001b[0m\u001b[0;34m,\u001b[0m \u001b[0;34m'kaniko.yaml'\u001b[0m\u001b[0;34m]\u001b[0m\u001b[0;34m:\u001b[0m\u001b[0;34m\u001b[0m\u001b[0;34m\u001b[0m\u001b[0m\n\u001b[0;32m----> 8\u001b[0;31m     \u001b[0ms3_client\u001b[0m\u001b[0;34m.\u001b[0m\u001b[0mupload_file\u001b[0m\u001b[0;34m(\u001b[0m\u001b[0mf\u001b[0m \u001b[0;34m,\u001b[0m \u001b[0mS3_BUCKET\u001b[0m\u001b[0;34m,\u001b[0m \u001b[0mf\u001b[0m\u001b[0;34m)\u001b[0m\u001b[0;34m\u001b[0m\u001b[0;34m\u001b[0m\u001b[0m\n\u001b[0m",
      "\u001b[0;32m~/dev/applications/app-templates/kubeflow-pipeline/.virtualenv/lib/python3.7/site-packages/boto3/s3/inject.py\u001b[0m in \u001b[0;36mupload_file\u001b[0;34m(self, Filename, Bucket, Key, ExtraArgs, Callback, Config)\u001b[0m\n\u001b[1;32m    129\u001b[0m         return transfer.upload_file(\n\u001b[1;32m    130\u001b[0m             \u001b[0mfilename\u001b[0m\u001b[0;34m=\u001b[0m\u001b[0mFilename\u001b[0m\u001b[0;34m,\u001b[0m \u001b[0mbucket\u001b[0m\u001b[0;34m=\u001b[0m\u001b[0mBucket\u001b[0m\u001b[0;34m,\u001b[0m \u001b[0mkey\u001b[0m\u001b[0;34m=\u001b[0m\u001b[0mKey\u001b[0m\u001b[0;34m,\u001b[0m\u001b[0;34m\u001b[0m\u001b[0;34m\u001b[0m\u001b[0m\n\u001b[0;32m--> 131\u001b[0;31m             extra_args=ExtraArgs, callback=Callback)\n\u001b[0m\u001b[1;32m    132\u001b[0m \u001b[0;34m\u001b[0m\u001b[0m\n\u001b[1;32m    133\u001b[0m \u001b[0;34m\u001b[0m\u001b[0m\n",
      "\u001b[0;32m~/dev/applications/app-templates/kubeflow-pipeline/.virtualenv/lib/python3.7/site-packages/boto3/s3/transfer.py\u001b[0m in \u001b[0;36mupload_file\u001b[0;34m(self, filename, bucket, key, callback, extra_args)\u001b[0m\n\u001b[1;32m    277\u001b[0m             filename, bucket, key, extra_args, subscribers)\n\u001b[1;32m    278\u001b[0m         \u001b[0;32mtry\u001b[0m\u001b[0;34m:\u001b[0m\u001b[0;34m\u001b[0m\u001b[0;34m\u001b[0m\u001b[0m\n\u001b[0;32m--> 279\u001b[0;31m             \u001b[0mfuture\u001b[0m\u001b[0;34m.\u001b[0m\u001b[0mresult\u001b[0m\u001b[0;34m(\u001b[0m\u001b[0;34m)\u001b[0m\u001b[0;34m\u001b[0m\u001b[0;34m\u001b[0m\u001b[0m\n\u001b[0m\u001b[1;32m    280\u001b[0m         \u001b[0;31m# If a client error was raised, add the backwards compatibility layer\u001b[0m\u001b[0;34m\u001b[0m\u001b[0;34m\u001b[0m\u001b[0;34m\u001b[0m\u001b[0m\n\u001b[1;32m    281\u001b[0m         \u001b[0;31m# that raises a S3UploadFailedError. These specific errors were only\u001b[0m\u001b[0;34m\u001b[0m\u001b[0;34m\u001b[0m\u001b[0;34m\u001b[0m\u001b[0m\n",
      "\u001b[0;32m~/dev/applications/app-templates/kubeflow-pipeline/.virtualenv/lib/python3.7/site-packages/s3transfer/futures.py\u001b[0m in \u001b[0;36mresult\u001b[0;34m(self)\u001b[0m\n\u001b[1;32m     71\u001b[0m             \u001b[0;31m# however if a KeyboardInterrupt is raised we want want to exit\u001b[0m\u001b[0;34m\u001b[0m\u001b[0;34m\u001b[0m\u001b[0;34m\u001b[0m\u001b[0m\n\u001b[1;32m     72\u001b[0m             \u001b[0;31m# out of this and propogate the exception.\u001b[0m\u001b[0;34m\u001b[0m\u001b[0;34m\u001b[0m\u001b[0;34m\u001b[0m\u001b[0m\n\u001b[0;32m---> 73\u001b[0;31m             \u001b[0;32mreturn\u001b[0m \u001b[0mself\u001b[0m\u001b[0;34m.\u001b[0m\u001b[0m_coordinator\u001b[0m\u001b[0;34m.\u001b[0m\u001b[0mresult\u001b[0m\u001b[0;34m(\u001b[0m\u001b[0;34m)\u001b[0m\u001b[0;34m\u001b[0m\u001b[0;34m\u001b[0m\u001b[0m\n\u001b[0m\u001b[1;32m     74\u001b[0m         \u001b[0;32mexcept\u001b[0m \u001b[0mKeyboardInterrupt\u001b[0m \u001b[0;32mas\u001b[0m \u001b[0me\u001b[0m\u001b[0;34m:\u001b[0m\u001b[0;34m\u001b[0m\u001b[0;34m\u001b[0m\u001b[0m\n\u001b[1;32m     75\u001b[0m             \u001b[0mself\u001b[0m\u001b[0;34m.\u001b[0m\u001b[0mcancel\u001b[0m\u001b[0;34m(\u001b[0m\u001b[0;34m)\u001b[0m\u001b[0;34m\u001b[0m\u001b[0;34m\u001b[0m\u001b[0m\n",
      "\u001b[0;32m~/dev/applications/app-templates/kubeflow-pipeline/.virtualenv/lib/python3.7/site-packages/s3transfer/futures.py\u001b[0m in \u001b[0;36mresult\u001b[0;34m(self)\u001b[0m\n\u001b[1;32m    231\u001b[0m         \u001b[0;31m# final result.\u001b[0m\u001b[0;34m\u001b[0m\u001b[0;34m\u001b[0m\u001b[0;34m\u001b[0m\u001b[0m\n\u001b[1;32m    232\u001b[0m         \u001b[0;32mif\u001b[0m \u001b[0mself\u001b[0m\u001b[0;34m.\u001b[0m\u001b[0m_exception\u001b[0m\u001b[0;34m:\u001b[0m\u001b[0;34m\u001b[0m\u001b[0;34m\u001b[0m\u001b[0m\n\u001b[0;32m--> 233\u001b[0;31m             \u001b[0;32mraise\u001b[0m \u001b[0mself\u001b[0m\u001b[0;34m.\u001b[0m\u001b[0m_exception\u001b[0m\u001b[0;34m\u001b[0m\u001b[0;34m\u001b[0m\u001b[0m\n\u001b[0m\u001b[1;32m    234\u001b[0m         \u001b[0;32mreturn\u001b[0m \u001b[0mself\u001b[0m\u001b[0;34m.\u001b[0m\u001b[0m_result\u001b[0m\u001b[0;34m\u001b[0m\u001b[0;34m\u001b[0m\u001b[0m\n\u001b[1;32m    235\u001b[0m \u001b[0;34m\u001b[0m\u001b[0m\n",
      "\u001b[0;32m~/dev/applications/app-templates/kubeflow-pipeline/.virtualenv/lib/python3.7/site-packages/s3transfer/tasks.py\u001b[0m in \u001b[0;36m_main\u001b[0;34m(self, transfer_future, **kwargs)\u001b[0m\n\u001b[1;32m    253\u001b[0m             \u001b[0;31m# Call the submit method to start submitting tasks to execute the\u001b[0m\u001b[0;34m\u001b[0m\u001b[0;34m\u001b[0m\u001b[0;34m\u001b[0m\u001b[0m\n\u001b[1;32m    254\u001b[0m             \u001b[0;31m# transfer.\u001b[0m\u001b[0;34m\u001b[0m\u001b[0;34m\u001b[0m\u001b[0;34m\u001b[0m\u001b[0m\n\u001b[0;32m--> 255\u001b[0;31m             \u001b[0mself\u001b[0m\u001b[0;34m.\u001b[0m\u001b[0m_submit\u001b[0m\u001b[0;34m(\u001b[0m\u001b[0mtransfer_future\u001b[0m\u001b[0;34m=\u001b[0m\u001b[0mtransfer_future\u001b[0m\u001b[0;34m,\u001b[0m \u001b[0;34m**\u001b[0m\u001b[0mkwargs\u001b[0m\u001b[0;34m)\u001b[0m\u001b[0;34m\u001b[0m\u001b[0;34m\u001b[0m\u001b[0m\n\u001b[0m\u001b[1;32m    256\u001b[0m         \u001b[0;32mexcept\u001b[0m \u001b[0mBaseException\u001b[0m \u001b[0;32mas\u001b[0m \u001b[0me\u001b[0m\u001b[0;34m:\u001b[0m\u001b[0;34m\u001b[0m\u001b[0;34m\u001b[0m\u001b[0m\n\u001b[1;32m    257\u001b[0m             \u001b[0;31m# If there was an exception raised during the submission of task\u001b[0m\u001b[0;34m\u001b[0m\u001b[0;34m\u001b[0m\u001b[0;34m\u001b[0m\u001b[0m\n",
      "\u001b[0;32m~/dev/applications/app-templates/kubeflow-pipeline/.virtualenv/lib/python3.7/site-packages/s3transfer/upload.py\u001b[0m in \u001b[0;36m_submit\u001b[0;34m(self, client, config, osutil, request_executor, transfer_future, bandwidth_limiter)\u001b[0m\n\u001b[1;32m    547\u001b[0m         \u001b[0;31m# Determine the size if it was not provided\u001b[0m\u001b[0;34m\u001b[0m\u001b[0;34m\u001b[0m\u001b[0;34m\u001b[0m\u001b[0m\n\u001b[1;32m    548\u001b[0m         \u001b[0;32mif\u001b[0m \u001b[0mtransfer_future\u001b[0m\u001b[0;34m.\u001b[0m\u001b[0mmeta\u001b[0m\u001b[0;34m.\u001b[0m\u001b[0msize\u001b[0m \u001b[0;32mis\u001b[0m \u001b[0;32mNone\u001b[0m\u001b[0;34m:\u001b[0m\u001b[0;34m\u001b[0m\u001b[0;34m\u001b[0m\u001b[0m\n\u001b[0;32m--> 549\u001b[0;31m             \u001b[0mupload_input_manager\u001b[0m\u001b[0;34m.\u001b[0m\u001b[0mprovide_transfer_size\u001b[0m\u001b[0;34m(\u001b[0m\u001b[0mtransfer_future\u001b[0m\u001b[0;34m)\u001b[0m\u001b[0;34m\u001b[0m\u001b[0;34m\u001b[0m\u001b[0m\n\u001b[0m\u001b[1;32m    550\u001b[0m \u001b[0;34m\u001b[0m\u001b[0m\n\u001b[1;32m    551\u001b[0m         \u001b[0;31m# Do a multipart upload if needed, otherwise do a regular put object.\u001b[0m\u001b[0;34m\u001b[0m\u001b[0;34m\u001b[0m\u001b[0;34m\u001b[0m\u001b[0m\n",
      "\u001b[0;32m~/dev/applications/app-templates/kubeflow-pipeline/.virtualenv/lib/python3.7/site-packages/s3transfer/upload.py\u001b[0m in \u001b[0;36mprovide_transfer_size\u001b[0;34m(self, transfer_future)\u001b[0m\n\u001b[1;32m    235\u001b[0m         transfer_future.meta.provide_transfer_size(\n\u001b[1;32m    236\u001b[0m             self._osutil.get_file_size(\n\u001b[0;32m--> 237\u001b[0;31m                 transfer_future.meta.call_args.fileobj))\n\u001b[0m\u001b[1;32m    238\u001b[0m \u001b[0;34m\u001b[0m\u001b[0m\n\u001b[1;32m    239\u001b[0m     \u001b[0;32mdef\u001b[0m \u001b[0mrequires_multipart_upload\u001b[0m\u001b[0;34m(\u001b[0m\u001b[0mself\u001b[0m\u001b[0;34m,\u001b[0m \u001b[0mtransfer_future\u001b[0m\u001b[0;34m,\u001b[0m \u001b[0mconfig\u001b[0m\u001b[0;34m)\u001b[0m\u001b[0;34m:\u001b[0m\u001b[0;34m\u001b[0m\u001b[0;34m\u001b[0m\u001b[0m\n",
      "\u001b[0;32m~/dev/applications/app-templates/kubeflow-pipeline/.virtualenv/lib/python3.7/site-packages/s3transfer/utils.py\u001b[0m in \u001b[0;36mget_file_size\u001b[0;34m(self, filename)\u001b[0m\n\u001b[1;32m    226\u001b[0m \u001b[0;32mclass\u001b[0m \u001b[0mOSUtils\u001b[0m\u001b[0;34m(\u001b[0m\u001b[0mobject\u001b[0m\u001b[0;34m)\u001b[0m\u001b[0;34m:\u001b[0m\u001b[0;34m\u001b[0m\u001b[0;34m\u001b[0m\u001b[0m\n\u001b[1;32m    227\u001b[0m     \u001b[0;32mdef\u001b[0m \u001b[0mget_file_size\u001b[0m\u001b[0;34m(\u001b[0m\u001b[0mself\u001b[0m\u001b[0;34m,\u001b[0m \u001b[0mfilename\u001b[0m\u001b[0;34m)\u001b[0m\u001b[0;34m:\u001b[0m\u001b[0;34m\u001b[0m\u001b[0;34m\u001b[0m\u001b[0m\n\u001b[0;32m--> 228\u001b[0;31m         \u001b[0;32mreturn\u001b[0m \u001b[0mos\u001b[0m\u001b[0;34m.\u001b[0m\u001b[0mpath\u001b[0m\u001b[0;34m.\u001b[0m\u001b[0mgetsize\u001b[0m\u001b[0;34m(\u001b[0m\u001b[0mfilename\u001b[0m\u001b[0;34m)\u001b[0m\u001b[0;34m\u001b[0m\u001b[0;34m\u001b[0m\u001b[0m\n\u001b[0m\u001b[1;32m    229\u001b[0m \u001b[0;34m\u001b[0m\u001b[0m\n\u001b[1;32m    230\u001b[0m     \u001b[0;32mdef\u001b[0m \u001b[0mopen_file_chunk_reader\u001b[0m\u001b[0;34m(\u001b[0m\u001b[0mself\u001b[0m\u001b[0;34m,\u001b[0m \u001b[0mfilename\u001b[0m\u001b[0;34m,\u001b[0m \u001b[0mstart_byte\u001b[0m\u001b[0;34m,\u001b[0m \u001b[0msize\u001b[0m\u001b[0;34m,\u001b[0m \u001b[0mcallbacks\u001b[0m\u001b[0;34m)\u001b[0m\u001b[0;34m:\u001b[0m\u001b[0;34m\u001b[0m\u001b[0;34m\u001b[0m\u001b[0m\n",
      "\u001b[0;32m~/dev/applications/app-templates/kubeflow-pipeline/.virtualenv/bin/../lib/python3.7/genericpath.py\u001b[0m in \u001b[0;36mgetsize\u001b[0;34m(filename)\u001b[0m\n\u001b[1;32m     48\u001b[0m \u001b[0;32mdef\u001b[0m \u001b[0mgetsize\u001b[0m\u001b[0;34m(\u001b[0m\u001b[0mfilename\u001b[0m\u001b[0;34m)\u001b[0m\u001b[0;34m:\u001b[0m\u001b[0;34m\u001b[0m\u001b[0;34m\u001b[0m\u001b[0m\n\u001b[1;32m     49\u001b[0m     \u001b[0;34m\"\"\"Return the size of a file, reported by os.stat().\"\"\"\u001b[0m\u001b[0;34m\u001b[0m\u001b[0;34m\u001b[0m\u001b[0m\n\u001b[0;32m---> 50\u001b[0;31m     \u001b[0;32mreturn\u001b[0m \u001b[0mos\u001b[0m\u001b[0;34m.\u001b[0m\u001b[0mstat\u001b[0m\u001b[0;34m(\u001b[0m\u001b[0mfilename\u001b[0m\u001b[0;34m)\u001b[0m\u001b[0;34m.\u001b[0m\u001b[0mst_size\u001b[0m\u001b[0;34m\u001b[0m\u001b[0;34m\u001b[0m\u001b[0m\n\u001b[0m\u001b[1;32m     51\u001b[0m \u001b[0;34m\u001b[0m\u001b[0m\n\u001b[1;32m     52\u001b[0m \u001b[0;34m\u001b[0m\u001b[0m\n",
      "\u001b[0;31mFileNotFoundError\u001b[0m: [Errno 2] No such file or directory: 'Dockerfile'"
     ]
    }
   ],
   "source": [
    "\n",
    "\n",
    "s3_client = boto3.client(\n",
    "    service_name = 's3',\n",
    "    endpoint_url = S3_ENDPOINT,\n",
    "    aws_access_key_id = S3_ACCESS_KEY,\n",
    "    aws_secret_access_key = S3_SECRET_KEY)\n",
    "\n",
    "for f in ['Dockerfile', 'kaniko.yaml']:\n",
    "    s3_client.upload_file(f , S3_BUCKET, f)"
   ]
  },
  {
   "cell_type": "markdown",
   "metadata": {},
   "source": [
    "## Create an expereiment\n",
    "We must create a new experiment if does not exist"
   ]
  },
  {
   "cell_type": "markdown",
   "metadata": {},
   "source": [
    "## Define a Pipeline"
   ]
  },
  {
   "cell_type": "code",
   "execution_count": 22,
   "metadata": {},
   "outputs": [],
   "source": [
    "import kfp.dsl as dsl\n",
    "from kubernetes import client as k8sc\n",
    "\n",
    "@dsl.pipeline(\n",
    "  name='Super simple minio integration',\n",
    "  description='I as a pipeline want to read a file from minio bucket'\n",
    ")\n",
    "def hello_minio_pipeline(filename: dsl.PipelineParam):\n",
    "    op1 = dsl.ContainerOp(\n",
    "        name='download',\n",
    "        image='minio/mc',\n",
    "        command=['mc', '--no-color'],\n",
    "        arguments=['cp', 'minio/%s' % filename, '/tmp/results.txt'],\n",
    "        file_outputs={'downloaded': '/tmp/results.txt'}\n",
    "    ).add_env_variable(\n",
    "        k8sc.V1EnvVar(\n",
    "            name='MC_HOSTS_minio', \n",
    "            value='https://%s:%s@%s' % (S3_ACCESS_KEY, S3_SECRET_KEY, S3_ENDPOINT), \n",
    "        ))\n",
    "    op2 = dsl.ContainerOp(\n",
    "        name='echo',\n",
    "        image='library/bash:4.4.23',\n",
    "        command=['sh', '-c'],\n",
    "        arguments=['echo %s' % op1.output])"
   ]
  },
  {
   "cell_type": "markdown",
   "metadata": {},
   "source": [
    "### Execute the pipeline\n",
    "\n",
    "Code below will create a new experiement **Hello Minio** and run it"
   ]
  },
  {
   "cell_type": "code",
   "execution_count": 26,
   "metadata": {},
   "outputs": [
    {
     "data": {
      "text/html": [
       "Run link <a href=\"/pipeline/#/runs/details/20f762ad-1125-11e9-84b8-0251892cc566\" target=\"_blank\" >here</a>"
      ],
      "text/plain": [
       "<IPython.core.display.HTML object>"
      ]
     },
     "metadata": {},
     "output_type": "display_data"
    }
   ],
   "source": [
    "import kfp\n",
    "import kfp.compiler as compiler\n",
    "\n",
    "client = kfp.Client()\n",
    "\n",
    "try:\n",
    "    exp = client.get_experiment(experiment_name=EXPERIMENT_NAME)\n",
    "except ValueError:\n",
    "    exp = client.create_experiment(EXPERIMENT_NAME)\n",
    "\n",
    "compiler.Compiler().compile(hello_minio_pipeline, 'pipeline.tar.gz')\n",
    "\n",
    "run = client.run_pipeline(exp.id, \n",
    "                          'pipeline 1', \n",
    "                          'pipeline.tar.gz',\n",
    "                          params={'filename': 'default/hello.txt'})\n",
    "\n",
    "\n",
    "%%deploy_webhook 'pipeline.tar.gz' 'http://xyz'"
   ]
  },
  {
   "cell_type": "code",
   "execution_count": null,
   "metadata": {},
   "outputs": [],
   "source": []
  }
 ],
 "metadata": {
  "kernelspec": {
   "display_name": "Python 3",
   "language": "python",
   "name": "python3"
  },
  "language_info": {
   "codemirror_mode": {
    "name": "ipython",
    "version": 3
   },
   "file_extension": ".py",
   "mimetype": "text/x-python",
   "name": "python",
   "nbconvert_exporter": "python",
   "pygments_lexer": "ipython3",
   "version": "3.7.1"
  }
 },
 "nbformat": 4,
 "nbformat_minor": 2
}
