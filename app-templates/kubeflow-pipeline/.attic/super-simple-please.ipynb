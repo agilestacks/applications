{
 "cells": [
  {
   "cell_type": "markdown",
   "metadata": {},
   "source": [
    "# Super simple Kubeflow Pipelines\n",
    "\n",
    "Here we will schedule a one pipeline that will download artifacts from minio buckets"
   ]
  },
  {
   "cell_type": "code",
   "execution_count": null,
   "metadata": {
    "ExecuteTime": {
     "end_time": "2019-01-30T13:13:27.052832Z",
     "start_time": "2019-01-30T13:13:20.155803Z"
    },
    "scrolled": false
   },
   "outputs": [],
   "source": [
    "!pip3 install --upgrade './extensions' > /dev/null\n",
    "!pip3 install --upgrade 'https://storage.googleapis.com/ml-pipeline/release/0.1.8/kfp.tar.gz' > /dev/null\n",
    "\n",
    "# jupyter notebook extensions\n",
    "%load_ext extensions\n",
    "\n",
    "# imports goes here\n",
    "from ipython_secrets import get_secret\n",
    "\n",
    "from os import environ\n",
    "import kfp\n",
    "import kfp.compiler as compiler\n",
    "import boto3\n",
    "import tarfile\n",
    "import kfp.dsl as dsl\n",
    "from kfp.dsl import compiler"
   ]
  },
  {
   "cell_type": "markdown",
   "metadata": {},
   "source": [
    "\n",
    "## Environment setup"
   ]
  },
  {
   "cell_type": "code",
   "execution_count": null,
   "metadata": {
    "ExecuteTime": {
     "end_time": "2019-01-30T13:13:30.616540Z",
     "start_time": "2019-01-30T13:13:30.479047Z"
    }
   },
   "outputs": [],
   "source": [
    "EXPERIMENT_NAME = 'Der-Experiment-1'\n",
    "\n",
    "AWS_S3_BUCKET = get_secret('AWS_S3_BUCKET')\n",
    "\n",
    "DOCKER_REGISTRY = get_secret('DOCKER_REGISTRY')\n",
    "DOCKER_REGISTRY_SECRET = get_secret('DOCKER_REGISTRY_SECRET')\n",
    "DOCKER_IMAGE = 'library/experiment'\n",
    "DOCKER_TAG = 'latest'"
   ]
  },
  {
   "cell_type": "markdown",
   "metadata": {},
   "source": [
    "Create API clients for pipelines and object storage"
   ]
  },
  {
   "cell_type": "code",
   "execution_count": null,
   "metadata": {
    "ExecuteTime": {
     "end_time": "2019-01-30T12:55:50.248417Z",
     "start_time": "2019-01-30T12:55:39.911433Z"
    }
   },
   "outputs": [],
   "source": [
    "client = kfp.Client()\n",
    "try:\n",
    "    experiment = client.get_experiment(experiment_name=EXPERIMENT_NAME)\n",
    "except:\n",
    "    experiment = client.create_experiment(EXPERIMENT_NAME)"
   ]
  },
  {
   "cell_type": "markdown",
   "metadata": {},
   "source": [
    "# Build an experiment related docker image\n",
    "\n",
    "Below we generate a dockerfile that will be used to put some `minio` awarness:\n",
    "- `Dockerfile` - a docker container that will be built and pushed into private docker egistry\n",
    "- `Kaniko` - deploument job to carry on our container build"
   ]
  },
  {
   "cell_type": "code",
   "execution_count": null,
   "metadata": {
    "ExecuteTime": {
     "end_time": "2019-01-30T13:13:53.284933Z",
     "start_time": "2019-01-30T13:13:52.976293Z"
    }
   },
   "outputs": [],
   "source": [
    "%%template Dockerfile\n",
    "FROM gcr.io/google-samples/ml-pipeline-t2ttrain:latest\n",
    "RUN echo 'hello, bucket {{AWS_S3_BUCKET}}!'"
   ]
  },
  {
   "cell_type": "code",
   "execution_count": null,
   "metadata": {
    "ExecuteTime": {
     "end_time": "2019-01-30T13:22:11.636213Z",
     "start_time": "2019-01-30T13:22:11.611496Z"
    }
   },
   "outputs": [],
   "source": [
    "import extensions\n",
    "from extensions.kubeflow import KanikoOp\n",
    "\n",
    "@dsl.pipeline(\n",
    "  name='Build',\n",
    "  description='Kaniko docker ubild operations'\n",
    ")\n",
    "def kaniko():\n",
    "    KanikoOp(\n",
    "        name='kaniko',\n",
    "        image='gcr.io/kaniko-project/executor:latest',\n",
    "        destination=f\"{DOCKER_REGISTRY}/{DOCKER_IMAGE}:{DOCKER_TAG}\",\n",
    "        package=f\"s3://{AWS_S3_BUCKET}/{EXPERIMENT_NAME}/dockerbuild.tar.gz\",\n",
    "    ).add_pull_secret(\n",
    "        secret_name=DOCKER_REGISTRY_SECRET\n",
    "    ).add_aws_secret(\n",
    "        secret_name='kaniko-awscreds',\n",
    "        session=boto3.session.Session()\n",
    "    )\n",
    "\n",
    "Compiler().compile(kaniko, 'kaniko.tar.gz')"
   ]
  },
  {
   "cell_type": "code",
   "execution_count": null,
   "metadata": {},
   "outputs": [],
   "source": [
    "r = client.run_pipeline(experiment.id, f'build {DOCKER_IMAGE}', 'kaniko.tar.gz')\n",
    "\n",
    "# uncomment this to block untill completion\n",
    "# client.wait_for_run_completion(r.id, timeout=400).run.status"
   ]
  },
  {
   "cell_type": "markdown",
   "metadata": {},
   "source": [
    "Define a pipeline that will build and compile a docker container"
   ]
  },
  {
   "cell_type": "markdown",
   "metadata": {},
   "source": [
    "Generated files must be uploaded to object storage bucket (i.e s3, minio). Docker build process (Kaniko) will have to access to s3 bucket"
   ]
  },
  {
   "cell_type": "code",
   "execution_count": null,
   "metadata": {},
   "outputs": [],
   "source": [
    "# block till completion\n",
    "client.wait_for_run_completion(r.id, timeout=400).run.status"
   ]
  },
  {
   "cell_type": "markdown",
   "metadata": {},
   "source": [
    "# Define an Experiment Pipeline"
   ]
  },
  {
   "cell_type": "code",
   "execution_count": null,
   "metadata": {},
   "outputs": [],
   "source": [
    "@dsl.pipeline(\n",
    "  name='Super simple minio integration',\n",
    "  description='I as a pipeline want to read a file from minio bucket'\n",
    ")\n",
    "def hello_minio_pipeline(filename: dsl.PipelineParam):\n",
    "    op1 = dsl.ContainerOp(\n",
    "        name='download',\n",
    "        image=IMAGE_NAME,\n",
    "        command=['mc', '--no-color'],\n",
    "        arguments=['cp', f'minio/{filename}', '/tmp/results.txt'],\n",
    "        file_outputs={'downloaded': '/tmp/results.txt'}\n",
    "    ).add_env_variable(\n",
    "        k8sc.V1EnvVar(\n",
    "            name='MC_HOSTS_minio', \n",
    "            value=f'https://{S3_ACCESS_KEY}:{S3_SECRET_KEY}@{S3_ENDPOINT}' \n",
    "        ))\n",
    "    op2 = dsl.ContainerOp(\n",
    "        name='echo',\n",
    "        image='library/bash:4.4.23',\n",
    "        command=['sh', '-c'],\n",
    "        arguments=[f'echo {op1.output}'])"
   ]
  },
  {
   "cell_type": "markdown",
   "metadata": {},
   "source": [
    "### Execute the pipeline\n",
    "\n",
    "Code below will create a new experiement **Hello Minio** and run it"
   ]
  }
 ],
 "metadata": {
  "kernelspec": {
   "display_name": "Python 3",
   "language": "python",
   "name": "python3"
  },
  "language_info": {
   "codemirror_mode": {
    "name": "ipython",
    "version": 3
   },
   "file_extension": ".py",
   "mimetype": "text/x-python",
   "name": "python",
   "nbconvert_exporter": "python",
   "pygments_lexer": "ipython3",
   "version": "3.6.4"
  },
  "toc": {
   "base_numbering": 1,
   "nav_menu": {},
   "number_sections": true,
   "sideBar": true,
   "skip_h1_title": false,
   "title_cell": "Table of Contents",
   "title_sidebar": "Contents",
   "toc_cell": false,
   "toc_position": {},
   "toc_section_display": true,
   "toc_window_display": false
  },
  "varInspector": {
   "cols": {
    "lenName": 16,
    "lenType": 16,
    "lenVar": 40
   },
   "kernels_config": {
    "python": {
     "delete_cmd_postfix": "",
     "delete_cmd_prefix": "del ",
     "library": "var_list.py",
     "varRefreshCmd": "print(var_dic_list())"
    },
    "r": {
     "delete_cmd_postfix": ") ",
     "delete_cmd_prefix": "rm(",
     "library": "var_list.r",
     "varRefreshCmd": "cat(var_dic_list()) "
    }
   },
   "types_to_exclude": [
    "module",
    "function",
    "builtin_function_or_method",
    "instance",
    "_Feature"
   ],
   "window_display": false
  }
 },
 "nbformat": 4,
 "nbformat_minor": 2
}
