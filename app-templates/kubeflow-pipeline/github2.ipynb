{
 "cells": [
  {
   "cell_type": "markdown",
   "metadata": {},
   "source": [
    "# End to end experiment: Github Issue Summarization\n",
    "\n",
    "Currently, this notebook must be run from the Kubeflow JupyterHub installation, as described in the codelab.\n",
    "\n",
    "In this notebook, we will show how to:\n",
    "\n",
    "* Interactively define a KubeFlow Pipeline using the Pipelines Python SDK\n",
    "* Submit and run the pipeline\n",
    "* Add a step in the pipeline\n",
    "\n",
    "This example pipeline trains a [Tensor2Tensor](https://github.com/tensorflow/tensor2tensor/) model on Github issue data, learning to predict issue titles from issue bodies. It then exports the trained model and deploys the exported model to [Tensorflow Serving](https://github.com/tensorflow/serving). \n",
    "The final step in the pipeline launches a web app which interacts with the TF-Serving instance in order to get model predictions."
   ]
  },
  {
   "cell_type": "markdown",
   "metadata": {},
   "source": [
    "## Enviroinment Setup\n",
    "\n",
    "Before any experiment can be conducted. We need to setup and initialize an environment: ensure all Python modules has been setup and configured, as well as python modules\n",
    "\n",
    "Setting up python modules"
   ]
  },
  {
   "cell_type": "code",
   "execution_count": null,
   "metadata": {},
   "outputs": [],
   "source": [
    "!pip3 install --upgrade 'https://storage.googleapis.com/ml-pipeline/release/0.1.10/kfp.tar.gz' > /dev/null\n",
    "!pip3 install --upgrade './extensions' > /dev/null\n",
    "%load_ext extensions\n",
    "\n",
    "import sys\n",
    "sys.path.insert(0, 'src')\n",
    "\n",
    "import kfp\n",
    "import kfp.dsl as dsl\n",
    "import kfp.gcp as gcp\n",
    "import kfp.notebook\n",
    "\n",
    "from ipython_secrets import get_secret\n",
    "from kfp.compiler import Compiler\n",
    "\n",
    "import extensions\n",
    "import extensions.kaniko as kaniko\n",
    "from os import environ\n",
    "\n",
    "client = kfp.Client()"
   ]
  },
  {
   "cell_type": "code",
   "execution_count": null,
   "metadata": {},
   "outputs": [],
   "source": [
    "USER = environ['JUPYTERHUB_USER']\n",
    "EXPERIMENT_NAME = f'Github issues {USER}'\n",
    "DOCKER_REGISTRY = get_secret('DOCKER_REGISTRY')\n",
    "DOCKER_REGISTRY_SECRET = get_secret('DOCKER_REGISTRY_SECRET')\n",
    "DOCKER_TAG = 'latest'\n",
    "\n",
    "AWS_S3_BUCKET = 'files.dev4.demo10.superhub.io'\n",
    "\n",
    "DATA_FILE = '/home/jovyan/data/data-sample.csv'\n",
    "try:\n",
    "    exp = client.get_experiment(experiment_name=EXPERIMENT_NAME)\n",
    "except:\n",
    "    exp = client.create_experiment(EXPERIMENT_NAME)"
   ]
  },
  {
   "cell_type": "code",
   "execution_count": null,
   "metadata": {},
   "outputs": [],
   "source": [
    "%%template Dockerfile.keras\n",
    "FROM tensorflow/tensorflow:latest-py3\n",
    "COPY src /app\n",
    "WORKDIR /app\n",
    "RUN pip3 install --upgrade --no-cache-dir -r requirements.txt\n",
    "ENTRYPOINT ['python3']"
   ]
  },
  {
   "cell_type": "code",
   "execution_count": null,
   "metadata": {},
   "outputs": [],
   "source": [
    "build_ctx=f\"s3://{AWS_S3_BUCKET}/{USER}/{EXPERIMENT_NAME}/dockerbuild.tar.gz\"\n",
    "upload_build_context_to_s3(build_ctx)\n",
    "\n",
    "def kaniko_op(name, destination, dockerfile,\n",
    "              context=build_ctx, aws_secret=AWS_SECRET, \n",
    "              pull_secret=DOCKER_REGISTRY_SECRET):\n",
    "    \"\"\" template function for kaniko build operation\n",
    "    \"\"\"\n",
    "    return dsl.ContainerOp(\n",
    "        name=name,\n",
    "        image='gcr.io/kaniko-project/executor:latest',\n",
    "        arguments=['--destination', destination,\n",
    "                   '--dockerfile', dockerfile,\n",
    "                   '--context', context]\n",
    "    ).apply(\n",
    "        use_aws_region_envvar()\n",
    "    ).apply(\n",
    "        kaniko.use_pull_secret_projection(pull_secret)\n",
    "    )\n",
    "\n",
    "@dsl.pipeline(\n",
    "  name='Pipeline images',\n",
    "  description='Build images that will be used by the pipeline'\n",
    ")\n",
    "def build_images():\n",
    "    t2t = kaniko_op(\n",
    "        name='keras',\n",
    "        destination=f\"{DOCKER_REGISTRY}/library/keras:{DOCKER_TAG}\",\n",
    "        dockerfile='Dockerfile.keras'\n",
    "    )\n",
    "    \n",
    "Compiler().compile(build_images, 'kaniko.tar.gz')"
   ]
  },
  {
   "cell_type": "code",
   "execution_count": null,
   "metadata": {},
   "outputs": [],
   "source": [
    "client = kfp.Client()\n",
    "try:\n",
    "    exp = client.get_experiment(experiment_name=EXPERIMENT_NAME)\n",
    "except:\n",
    "    exp = client.create_experiment(EXPERIMENT_NAME)\n",
    "\n",
    "run = client.run_pipeline(exp.id, 'Build images', 'kaniko.tar.gz')"
   ]
  },
  {
   "cell_type": "code",
   "execution_count": null,
   "metadata": {},
   "outputs": [],
   "source": [
    "# block till completion\n",
    "client.wait_for_run_completion(run.id, timeout=720).run.status"
   ]
  }
 ],
 "metadata": {
  "kernelspec": {
   "display_name": "Python 3",
   "language": "python",
   "name": "python3"
  },
  "language_info": {
   "codemirror_mode": {
    "name": "ipython",
    "version": 3
   },
   "file_extension": ".py",
   "mimetype": "text/x-python",
   "name": "python",
   "nbconvert_exporter": "python",
   "pygments_lexer": "ipython3",
   "version": "3.6.4"
  }
 },
 "nbformat": 4,
 "nbformat_minor": 2
}
