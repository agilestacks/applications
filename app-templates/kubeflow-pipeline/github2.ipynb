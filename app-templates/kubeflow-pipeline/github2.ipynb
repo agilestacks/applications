{
 "cells": [
  {
   "cell_type": "markdown",
   "metadata": {},
   "source": [
    "# End to end experiment: Github Issue Summarization\n",
    "\n",
    "Currently, this notebook must be run from the Kubeflow JupyterHub installation, as described in the codelab.\n",
    "\n",
    "In this notebook, we will show how to:\n",
    "\n",
    "* Interactively define a KubeFlow Pipeline using the Pipelines Python SDK\n",
    "* Submit and run the pipeline\n",
    "* Add a step in the pipeline\n",
    "\n",
    "This example pipeline trains a [Tensor2Tensor](https://github.com/tensorflow/tensor2tensor/) model on Github issue data, learning to predict issue titles from issue bodies. It then exports the trained model and deploys the exported model to [Tensorflow Serving](https://github.com/tensorflow/serving). \n",
    "The final step in the pipeline launches a web app which interacts with the TF-Serving instance in order to get model predictions."
   ]
  },
  {
   "cell_type": "markdown",
   "metadata": {},
   "source": [
    "## Enviroinment Setup\n",
    "\n",
    "Before any experiment can be conducted. We need to setup and initialize an environment: ensure all Python modules has been setup and configured, as well as python modules\n",
    "\n",
    "Setting up python modules"
   ]
  },
  {
   "cell_type": "code",
   "execution_count": 1,
   "metadata": {},
   "outputs": [
    {
     "name": "stdout",
     "output_type": "stream",
     "text": [
      "\u001b[33mYou are using pip version 18.1, however version 19.0.3 is available.\n",
      "You should consider upgrading via the 'pip install --upgrade pip' command.\u001b[0m\n",
      "\u001b[33mYou are using pip version 18.1, however version 19.0.3 is available.\n",
      "You should consider upgrading via the 'pip install --upgrade pip' command.\u001b[0m\n"
     ]
    }
   ],
   "source": [
    "!pip3 install --upgrade 'https://storage.googleapis.com/ml-pipeline/release/0.1.10/kfp.tar.gz' > /dev/null\n",
    "!pip3 install --upgrade './extensions' > /dev/null\n",
    "%load_ext extensions\n",
    "\n",
    "import sys\n",
    "sys.path.insert(0, 'src')\n",
    "\n",
    "import kfp\n",
    "import kfp.dsl as dsl\n",
    "import kfp.gcp as gcp\n",
    "import kfp.notebook\n",
    "\n",
    "from ipython_secrets import get_secret\n",
    "from kfp.compiler import Compiler\n",
    "\n",
    "import extensions\n",
    "import extensions.kaniko as kaniko\n",
    "import extensions.pv as pv\n",
    "import extensions.kaniko.aws as aws\n",
    "\n",
    "from os import environ\n",
    "\n",
    "client = kfp.Client()"
   ]
  },
  {
   "cell_type": "markdown",
   "metadata": {},
   "source": [
    "Initialize global namespace variables. It is a good practice to place all global namespace variables in one cell. So, the notebook could be configured all-at-once. \n",
    "\n",
    "To enhance readability we would advice to capitalize such variables."
   ]
  },
  {
   "cell_type": "code",
   "execution_count": null,
   "metadata": {},
   "outputs": [],
   "source": [
    "USER = environ['JUPYTERHUB_USER']\n",
    "EXPERIMENT_NAME = f'Github issues {USER}'\n",
    "DOCKER_REGISTRY = get_secret('DOCKER_REGISTRY')\n",
    "DOCKER_REGISTRY_SECRET = get_secret('DOCKER_REGISTRY_SECRET')\n",
    "AWS_SECRET = 'jupyter-awscreds'\n",
    "DOCKER_TAG = 'latest'\n",
    "\n",
    "AWS_S3_BUCKET = 'files.dev4.demo10.superhub.io'\n",
    "\n",
    "DATA_FILE = '/home/jovyan/data/data-sample.csv'\n",
    "try:\n",
    "    exp = client.get_experiment(experiment_name=EXPERIMENT_NAME)\n",
    "except:\n",
    "    exp = client.create_experiment(EXPERIMENT_NAME)\n"
   ]
  },
  {
   "cell_type": "markdown",
   "metadata": {},
   "source": [
    "### Prepare dockerfile templates\n",
    "\n",
    "Docker images can be rendered via `%%template` or `%templatefile` magics. It can intelligently use mustache `{{placeholder}}` templating syntax. Content will be replaced by the user namespace defined variable or system environment variable\n",
    "\n",
    "You can use flags with the magic function:\n",
    "* `-v` - to see content of rendered file. \n",
    "* `-h` - for more options\n",
    "\n"
   ]
  },
  {
   "cell_type": "code",
   "execution_count": null,
   "metadata": {},
   "outputs": [],
   "source": [
    "%%template Dockerfile.keras\n",
    "FROM tensorflow/tensorflow:latest-py3\n",
    "COPY src /app\n",
    "WORKDIR /app\n",
    "RUN pip3 install --upgrade --no-cache-dir -r requirements.txt\n",
    "ENTRYPOINT ['python3']"
   ]
  },
  {
   "cell_type": "markdown",
   "metadata": {},
   "source": [
    "### Define build pipeline\n",
    "\n",
    "Define build pipeline. Yes, we arguably using KFP to build images  that will be de-facto used by final pipeline.\n",
    "\n",
    "We use [Kaniko](https://github.com/GoogleContainerTools/kaniko) and Kubernetes to handle build operations. Build status can be tracked via KFP pipeline dashboard\n",
    "\n",
    "In fact build image job can be even combined with primary pipeline as physically it will be different Kubernetes pods. However for sake of general purpose efficiency we schedule build process via separate pipeline step"
   ]
  },
  {
   "cell_type": "code",
   "execution_count": null,
   "metadata": {},
   "outputs": [],
   "source": [
    "build_ctx=f\"s3://{AWS_S3_BUCKET}/{USER}/{EXPERIMENT_NAME}/dockerbuild.tar.gz\"\n",
    "kaniko.upload_build_context_to_s3(build_ctx)\n",
    "\n",
    "def kaniko_op(name, destination, dockerfile,\n",
    "              context=build_ctx, aws_secret=AWS_SECRET, \n",
    "              pull_secret=DOCKER_REGISTRY_SECRET):\n",
    "    \"\"\" template function for kaniko build operation\n",
    "    \"\"\"\n",
    "    return dsl.ContainerOp(\n",
    "        name=name,\n",
    "        image='gcr.io/kaniko-project/executor:latest',\n",
    "        arguments=['--destination', destination,\n",
    "                   '--dockerfile', dockerfile,\n",
    "                   '--context', context]\n",
    "    ).apply(\n",
    "        aws.use_aws_region_envvar()\n",
    "    ).apply(\n",
    "        kaniko.use_pull_secret_projection(pull_secret)\n",
    "    )\n",
    "\n",
    "@dsl.pipeline(\n",
    "  name='Pipeline images',\n",
    "  description='Build images that will be used by the pipeline'\n",
    ")\n",
    "def build_images():\n",
    "    kaniko_op(\n",
    "        name='keras',\n",
    "        destination=f\"{DOCKER_REGISTRY}/library/keras:{DOCKER_TAG}\",\n",
    "        dockerfile='Dockerfile.keras'\n",
    "    )\n",
    "    \n",
    "Compiler().compile(build_images, 'kaniko.tar.gz')"
   ]
  },
  {
   "cell_type": "markdown",
   "metadata": {},
   "source": [
    "By default pipeline steps (`ContainerOp`) are running in parallel. However if you need a DAG, then you can link these teps with function `after()`.\n",
    "\n",
    "Compiler transforms Python DSL into an [Argo Workflow](https://argoproj.github.io/docs/argo/readme.html). And stores generated artifacts in `kaniko.tar.gz`. So it could be executed multiple times. Perhaps with different parameters"
   ]
  },
  {
   "cell_type": "code",
   "execution_count": null,
   "metadata": {},
   "outputs": [],
   "source": [
    "run = client.run_pipeline(exp.id, 'Build images', 'kaniko.tar.gz')"
   ]
  },
  {
   "cell_type": "markdown",
   "metadata": {},
   "source": [
    "Build process can be long a long term. Because often images that has been used for data science tasks are huge. In this case you might want to adjust `timeout` parameter"
   ]
  },
  {
   "cell_type": "code",
   "execution_count": null,
   "metadata": {},
   "outputs": [],
   "source": [
    "# block till completion\n",
    "client.wait_for_run_completion(run.id, timeout=720).run.status"
   ]
  },
  {
   "cell_type": "markdown",
   "metadata": {},
   "source": [
    "# Data Preparation\n",
    "\n",
    "In this chapter we will define a pipeline that will do two important steps. It will download a data set in CSV file format (we call this operation **data import**) and "
   ]
  },
  {
   "cell_type": "code",
   "execution_count": null,
   "metadata": {},
   "outputs": [],
   "source": [
    "@dsl.pipeline(\n",
    "  name='Data preparation',\n",
    "  description=\"\"\"Extract validate transform and load data into object storage. \n",
    "  So it could be accessible by the actual training\n",
    "  \"\"\"\n",
    ")\n",
    "def prepare_data(\n",
    "    data_set: dsl.PipelineParam,\n",
    "    sample_size: dsl.PipelineParam=dsl.PipelineParam(name='sample-size', value='200'),\n",
    "    import_dataset: dsl.PipelineParam=dsl.PipelineParam(name='import-dataset', value=True),\n",
    "):\n",
    "    \n",
    "    with dsl.Condition('{{inputs.parameters.import-dataset}} == true'):\n",
    "        import_data = dsl.ContainerOp(\n",
    "            name='import-data',\n",
    "            image=f\"appropriate/curl\",\n",
    "            arguments=['-#LC', '-o', '/mnt/bucket/data-set.csv', data_set]\n",
    "        ).apply(\n",
    "            pv.use_pvc(name='nfs-bucket', mount_to='/mnt/bucket')\n",
    "        )\n",
    "        \n",
    "#     preproc_data = dsl.ContainerOp(\n",
    "#         name='preproc-data',\n",
    "#         image=f\"{DOCKER_REGISTRY}/library/keras:{DOCKER_TAG}\",\n",
    "#         arguments=['preproc_data.py', \n",
    "#                    '--input_csv', '/mnt/bucket/data-set.csv',\n",
    "#                    '--sample_size', sample_size,\n",
    "#                    '--output_traindf_csv', '/mnt/bucket/github_issues_medium_train.csv', \n",
    "#                    '--output_body_preprocessor_dpkl', '/mnt/bucket/github_issues_medium_test.csv',\n",
    "#                   ]\n",
    "#     ).apply(\n",
    "#         extensions.pv.use_pvc(name='nfs-bucket', mount_to='/mnt/bucket')\n",
    "#     )\n",
    "    \n",
    "#     preproc_data.after(import_data)\n",
    "    \n",
    "#     dataprep = dsl.ContainerOp(\n",
    "#         name='preproc',\n",
    "#         image=f\"{DOCKER_REGISTRY}/library/keras:{DOCKER_TAG}\",\n",
    "#         arguments=['preproc.py', \n",
    "#                    '--input_traindf_csv', csv_file,\n",
    "#                    '--output_body_preprocessor_dpkl', body_dpkl,\n",
    "                   \n",
    "#     ).apply(\n",
    "#         use_aws_region_envvar(S3_REGION)\n",
    "#     ).apply(\n",
    "#         use_aws_envvars_from_secret(AWS_SECRET)\n",
    "#     )\n",
    "\n",
    "Compiler().compile(prepare_data, 'preproc.tar.gz')"
   ]
  },
  {
   "cell_type": "markdown",
   "metadata": {},
   "source": [
    "Code below will run a pipeline and inject some pipeline parameters. Here we provide two versions of data sets\n",
    "* `SAMPLE_DATA_SET` - Data set that has just over 2 megabytes. Not enough for sufficient training. However ideal for development, because of faster feedback.\n",
    "* `FULL_DATA_SET` - Precreated data set with all github issues. 3 gigabytes. Good enough for sufficient model\n",
    "\n",
    "Depending on your needs you can choose one or another data set and pass it as a pipeline parameter `data-set`"
   ]
  },
  {
   "cell_type": "code",
   "execution_count": null,
   "metadata": {},
   "outputs": [],
   "source": [
    "# github issues small: 2Mi data set (best for dev/test)\n",
    "SAMPLE_DATA_SET = 'https://s3.us-east-2.amazonaws.com/asi-kubeflow-models/gh-issues/data-sample.csv'\n",
    "# data set for 3Gi. (best for training)\n",
    "FULL_DATA_SET = 'https://s3.us-east-2.amazonaws.com/asi-kubeflow-models/gh-issues/data-full.csv'\n",
    "\n",
    "run = client.run_pipeline(exp.id, 'Prepare data', 'preproc.tar.gz',\n",
    "                          params={'data-set': SAMPLE_DATA_SET})\n"
   ]
  },
  {
   "cell_type": "code",
   "execution_count": null,
   "metadata": {},
   "outputs": [],
   "source": []
  }
 ],
 "metadata": {
  "kernelspec": {
   "display_name": "Python 3",
   "language": "python",
   "name": "python3"
  },
  "language_info": {
   "codemirror_mode": {
    "name": "ipython",
    "version": 3
   },
   "file_extension": ".py",
   "mimetype": "text/x-python",
   "name": "python",
   "nbconvert_exporter": "python",
   "pygments_lexer": "ipython3",
   "version": "3.6.4"
  }
 },
 "nbformat": 4,
 "nbformat_minor": 2
}
