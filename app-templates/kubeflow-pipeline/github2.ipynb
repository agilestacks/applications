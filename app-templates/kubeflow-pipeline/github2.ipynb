{
 "cells": [
  {
   "cell_type": "markdown",
   "metadata": {},
   "source": [
    "# End to end experiment: Github Issue Summarization\n",
    "\n",
    "Currently, this notebook must be run from the Kubeflow JupyterHub installation, as described in the codelab.\n",
    "\n",
    "In this notebook, we will show how to:\n",
    "\n",
    "* Interactively define a KubeFlow Pipeline using the Pipelines Python SDK\n",
    "* Submit and run the pipeline\n",
    "* Add a step in the pipeline\n",
    "\n",
    "This example pipeline trains a [Tensor2Tensor](https://github.com/tensorflow/tensor2tensor/) model on Github issue data, learning to predict issue titles from issue bodies. It then exports the trained model and deploys the exported model to [Tensorflow Serving](https://github.com/tensorflow/serving). \n",
    "The final step in the pipeline launches a web app which interacts with the TF-Serving instance in order to get model predictions."
   ]
  },
  {
   "cell_type": "markdown",
   "metadata": {},
   "source": [
    "## Enviroinment Setup\n",
    "\n",
    "Before any experiment can be conducted. We need to setup and initialize an environment: ensure all Python modules has been setup and configured, as well as python modules\n",
    "\n",
    "Setting up python modules"
   ]
  },
  {
   "cell_type": "code",
   "execution_count": null,
   "metadata": {},
   "outputs": [],
   "source": [
    "!pip3 install --upgrade 'https://storage.googleapis.com/ml-pipeline/release/0.1.16/kfp.tar.gz' > /dev/null\n",
    "!pip3 install --upgrade './extensions' > /dev/null\n",
    "%load_ext extensions\n",
    "\n",
    "import sys, boto3, re\n",
    "sys.path.insert(0, 'src')\n",
    "\n",
    "import kfp\n",
    "import kfp.dsl as dsl\n",
    "import kfp.gcp as gcp\n",
    "import kfp.notebook\n",
    "\n",
    "from ipython_secrets import get_secret\n",
    "from kfp.compiler import Compiler\n",
    "\n",
    "import extensions\n",
    "import extensions.kaniko as kaniko\n",
    "import extensions.pv as pv\n",
    "import extensions.k8s as k8s\n",
    "import extensions.kaniko.aws as aws\n",
    "\n",
    "from os import environ\n",
    "\n",
    "client = kfp.Client()"
   ]
  },
  {
   "cell_type": "markdown",
   "metadata": {},
   "source": [
    "Initialize global namespace variables. It is a good practice to place all global namespace variables in one cell. So, the notebook could be configured all-at-once. \n",
    "\n",
    "To enhance readability we would advice to capitalize such variables."
   ]
  },
  {
   "cell_type": "code",
   "execution_count": null,
   "metadata": {},
   "outputs": [],
   "source": [
    "USER = environ['JUPYTERHUB_USER']\n",
    "EXPERIMENT_NAME = f'Github Issues {USER}'\n",
    "DOCKER_REGISTRY = 'kfp-pack-harbor.svc.cluster-red.antoncloud.superhub.io'\n",
    "DOCKER_REGISTRY_SECRET = 'kfp-pack-harbor-pull-secret'\n",
    "AWS_SECRET = 'jupyter-awscreds'\n",
    "DOCKER_TAG = 'latest'\n",
    "\n",
    "S3_ENDPOINT = 'https://kfp-pack-minio.app.cluster-red.antoncloud.superhub.io'\n",
    "MOUNT_DIR = f\"/mnt/s3\"\n",
    "\n",
    "s3 = boto3.session.Session().client(\n",
    "    service_name='s3',\n",
    "    aws_access_key_id=get_secret('ACCESS_KEY'),\n",
    "    aws_secret_access_key=get_secret('SECRET_KEY'),\n",
    "    endpoint_url=S3_ENDPOINT\n",
    ")\n",
    "\n",
    "try:\n",
    "    exp = client.get_experiment(experiment_name=EXPERIMENT_NAME)\n",
    "except:\n",
    "    exp = client.create_experiment(EXPERIMENT_NAME)"
   ]
  },
  {
   "cell_type": "markdown",
   "metadata": {},
   "source": [
    "## Create bucket\n",
    "\n",
    "\n",
    "Here we will generate a new bucket and create a `pvc` that will represent it as a file system inside of the wofkflow pod. To do this we need to define few variables\n",
    "- `S3_BUCKET` - name of the bucket to create. By defaults we mutate name of the user\n",
    "- `NAMESPACE` - points to the current namespace.\n",
    "- `PVC_NAME` - derived form `S3_BUCKET`. This is a kubernetes `pvc` name. This name will be used by pipeline container (`ContainerOp` objects)"
   ]
  },
  {
   "cell_type": "code",
   "execution_count": null,
   "metadata": {},
   "outputs": [],
   "source": [
    "NAMESPACE = k8s.current_namespace()\n",
    "S3_BUCKET = re.sub(r'\\W+', '-', USER).lower()\n",
    "PVC_NAME = f\"{S3_BUCKET}-bucket\"\n",
    "\n",
    "try:\n",
    "    s3.create_bucket(Bucket=S3_BUCKET, ACL='private')\n",
    "except:\n",
    "    pass\n",
    "\n",
    "%templatefile bucket-volume.yaml.template -o bucket-volume.yaml\n",
    "!kubectl apply -f bucket-volume.yaml"
   ]
  },
  {
   "cell_type": "markdown",
   "metadata": {},
   "source": [
    "### Prepare dockerfile templates\n",
    "\n",
    "Docker images can be rendered via `%%template` or `%templatefile` magics. It can intelligently use mustache `{{placeholder}}` templating syntax. Content will be replaced by the user namespace defined variable or system environment variable\n",
    "\n",
    "You can use flags with the magic function:\n",
    "* `-v` - to see content of rendered file. \n",
    "* `-h` - for more options\n",
    "\n"
   ]
  },
  {
   "cell_type": "code",
   "execution_count": null,
   "metadata": {},
   "outputs": [],
   "source": [
    "%%template Dockerfile.keras\n",
    "FROM tensorflow/tensorflow:latest-py3\n",
    "ENV PATH \"/src:${PATH}\"\n",
    "\n",
    "WORKDIR /tmp\n",
    "# RUN apt-get update && apt-get install -y --no-install-recommends \\\n",
    "#     python-pandas git \\\n",
    "#     && pip3 install -U scikit-learn \\\n",
    "#     && pip3 install -U ktext \\\n",
    "#     && pip3 install -U IPython \\\n",
    "#     && pip3 install -U annoy \\\n",
    "#     && pip3 install -U tqdm \\\n",
    "#     && pip3 install -U nltk \\\n",
    "#     && pip3 install -U matplotlib \\\n",
    "#     && pip3 install -U bernoulli \\\n",
    "#     && pip3 install -U h5py \\\n",
    "#     && git clone https://github.com/google/seq2seq.git \\\n",
    "#     && pip3 install -e ./seq2seq/ \\\n",
    "#     && apt-get clean \\\n",
    "#     && rm -rf \\\n",
    "#     /var/lib/apt/lists/* \\\n",
    "#     /tmp/* \\\n",
    "#     /var/tmp/* \\\n",
    "#     /usr/share/man \\\n",
    "#     /usr/share/doc \\\n",
    "#     /usr/share/doc-base\n",
    "\n",
    "COPY src /src\n",
    "WORKDIR /src\n"
   ]
  },
  {
   "cell_type": "markdown",
   "metadata": {},
   "source": [
    "### Define build pipeline\n",
    "\n",
    "Define build pipeline. Yes, we arguably using KFP to build images  that will be de-facto used by final pipeline.\n",
    "\n",
    "We use [Kaniko](https://github.com/GoogleContainerTools/kaniko) and Kubernetes to handle build operations. Build status can be tracked via KFP pipeline dashboard\n",
    "\n",
    "In fact build image job can be even combined with primary pipeline as physically it will be different Kubernetes pods. However for sake of general purpose efficiency we schedule build process via separate pipeline step"
   ]
  },
  {
   "cell_type": "code",
   "execution_count": null,
   "metadata": {},
   "outputs": [],
   "source": [
    "@dsl.pipeline(\n",
    "  name='Pipeline images',\n",
    "  description='Build images that will be used by the pipeline'\n",
    ")\n",
    "def build_images():\n",
    "    dsl.ContainerOp(\n",
    "        name='training-image',\n",
    "        image='gcr.io/kaniko-project/executor:latest',\n",
    "        arguments=['--destination', f\"{DOCKER_REGISTRY}/library/keras:{DOCKER_TAG}\",\n",
    "                   '--dockerfile', 'Dockerfile.keras',\n",
    "                   '--context', f\"{MOUNT_DIR}/kaniko\",\n",
    "                   '--cache', '--cache-dir', f\"{MOUNT_DIR}/cache\"]\n",
    "    ).apply(\n",
    "        kaniko.use_pull_secret_projection(secret_name=DOCKER_REGISTRY_SECRET)\n",
    "    ).apply(\n",
    "        extensions.pv.use_pvc(name=PVC_NAME, mount_to=MOUNT_DIR)\n",
    "    )\n",
    "        \n",
    "Compiler().compile(build_images, 'kaniko.tar.gz')"
   ]
  },
  {
   "cell_type": "markdown",
   "metadata": {},
   "source": [
    "By default pipeline steps (`ContainerOp`) are running in parallel. However if you need a DAG, then you can link these teps with function `after()`.\n",
    "\n",
    "Compiler transforms Python DSL into an [Argo Workflow](https://argoproj.github.io/docs/argo/readme.html). And stores generated artifacts in `kaniko.tar.gz`. So it could be executed multiple times. Perhaps with different parameters"
   ]
  },
  {
   "cell_type": "code",
   "execution_count": null,
   "metadata": {},
   "outputs": [],
   "source": [
    "aws.upload_to_s3(\n",
    "    destination=f\"s3://{S3_BUCKET}/kaniko\",\n",
    "    ignorefile='s3ignore.txt',\n",
    "    s3_client=s3\n",
    ")\n",
    "\n",
    "run = client.run_pipeline(exp.id, 'Build images', 'kaniko.tar.gz')"
   ]
  },
  {
   "cell_type": "markdown",
   "metadata": {},
   "source": [
    "Build process can be long a long term. Because often images that has been used for data science tasks are huge. In this case you might want to adjust `timeout` parameter"
   ]
  },
  {
   "cell_type": "code",
   "execution_count": null,
   "metadata": {},
   "outputs": [],
   "source": [
    "# block till completion\n",
    "client.wait_for_run_completion(run.id, timeout=720).run.status"
   ]
  },
  {
   "cell_type": "markdown",
   "metadata": {},
   "source": [
    "# Data Preparation\n",
    "\n",
    "In this chapter we will define a pipeline that will do two important steps. It will download a data set in CSV file format (we call this operation **data import**) and "
   ]
  },
  {
   "cell_type": "code",
   "execution_count": null,
   "metadata": {},
   "outputs": [],
   "source": [
    "@dsl.pipeline(\n",
    "  name='Data preparation',\n",
    "  description=\"\"\"Extract validate transform and load data into object storage. \n",
    "  So it could be accessible by the actual training\n",
    "  \"\"\"\n",
    ")\n",
    "def prepare_data(\n",
    "    data_set: dsl.PipelineParam,\n",
    "    sample_size: dsl.PipelineParam=dsl.PipelineParam(name='sample-size', value='200'),\n",
    "    import_dataset: dsl.PipelineParam=dsl.PipelineParam(name='import-dataset', value=True),\n",
    "):    \n",
    "#     import_data = dsl.ContainerOp(\n",
    "#         name='import-data',\n",
    "#         image='appropriate/curl',\n",
    "#         arguments=['-#Lv', '--create-dirs', '-o', f\"{MOUNT_DIR}/experiment/data-set.csv\", data_set]\n",
    "#     ).apply(\n",
    "#         pv.use_pvc(name=PVC_NAME, mount_to=MOUNT_DIR)\n",
    "#     )\n",
    "        \n",
    "    preproc_data = dsl.ContainerOp(\n",
    "        name='process-data',\n",
    "        image=f\"{DOCKER_REGISTRY}/library/keras:{DOCKER_TAG}\",\n",
    "        arguments=['process_data.py', \n",
    "                   '--input_csv', f\"{MOUNT_DIR}/experiment/experiment/data-set.csv\",\n",
    "                   '--sample_size', sample_size,\n",
    "                   '--output_traindf_csv', f\"{MOUNT_DIR}/experiment/github_issues_medium_train.csv\", \n",
    "                   '--output_body_preprocessor_dpkl', f\"{MOUNT_DIR}/experiment/github_issues_medium_test.csv\",\n",
    "                  ]\n",
    "    ).apply(\n",
    "        extensions.pv.use_pvc(name=PVC_NAME, mount_to=MOUNT_DIR)\n",
    "    )\n",
    "#     preproc_data.after(import_data)\n",
    "#     dataprep = dsl.ContainerOp(\n",
    "#         name='preproc',\n",
    "#         image=f\"{DOCKER_REGISTRY}/library/keras:{DOCKER_TAG}\",\n",
    "#         arguments=['preproc.py', \n",
    "#                    '--input_traindf_csv', csv_file,\n",
    "#                    '--output_body_preprocessor_dpkl', body_dpkl,\n",
    "                   \n",
    "#     ).apply(\n",
    "#         use_aws_region_envvar(S3_REGION)\n",
    "#     ).apply(\n",
    "#         use_aws_envvars_from_secret(AWS_SECRET)\n",
    "#     )\n",
    "\n",
    "Compiler().compile(prepare_data, 'preproc.tar.gz')"
   ]
  },
  {
   "cell_type": "markdown",
   "metadata": {},
   "source": [
    "Code below will run a pipeline and inject some pipeline parameters. Here we provide two versions of data sets\n",
    "* `SAMPLE_DATA_SET` - Data set that has just over 2 megabytes. Not enough for sufficient training. However ideal for development, because of faster feedback.\n",
    "* `FULL_DATA_SET` - Precreated data set with all github issues. 3 gigabytes. Good enough for sufficient model\n",
    "\n",
    "Depending on your needs you can choose one or another data set and pass it as a pipeline parameter `data-set`"
   ]
  },
  {
   "cell_type": "code",
   "execution_count": null,
   "metadata": {},
   "outputs": [],
   "source": [
    "# github issues small: 2Mi data set (best for dev/test)\n",
    "SAMPLE_DATA_SET = 'https://s3.us-east-2.amazonaws.com/asi-kubeflow-models/gh-issues/data-sample.csv'\n",
    "# data set for 3Gi. (best for training)\n",
    "FULL_DATA_SET = 'https://s3.us-east-2.amazonaws.com/asi-kubeflow-models/gh-issues/data-full.csv'\n",
    "\n",
    "run = client.run_pipeline(exp.id, 'Prepare data', 'preproc.tar.gz',\n",
    "                          params={'data-set': FULL_DATA_SET})\n"
   ]
  },
  {
   "cell_type": "code",
   "execution_count": null,
   "metadata": {},
   "outputs": [],
   "source": [
    "# block till completion\n",
    "client.wait_for_run_completion(run.id, timeout=720).run.status"
   ]
  },
  {
   "cell_type": "markdown",
   "metadata": {},
   "source": [
    "# Tear down\n",
    "\n",
    "Uppon completion, let's tear everything down"
   ]
  },
  {
   "cell_type": "code",
   "execution_count": null,
   "metadata": {},
   "outputs": [],
   "source": [
    "!kubectl delete -f bucket-volume.yaml"
   ]
  },
  {
   "cell_type": "code",
   "execution_count": null,
   "metadata": {},
   "outputs": [],
   "source": []
  }
 ],
 "metadata": {
  "kernelspec": {
   "display_name": "Python 3",
   "language": "python",
   "name": "python3"
  },
  "language_info": {
   "codemirror_mode": {
    "name": "ipython",
    "version": 3
   },
   "file_extension": ".py",
   "mimetype": "text/x-python",
   "name": "python",
   "nbconvert_exporter": "python",
   "pygments_lexer": "ipython3",
   "version": "3.6.4"
  }
 },
 "nbformat": 4,
 "nbformat_minor": 2
}
